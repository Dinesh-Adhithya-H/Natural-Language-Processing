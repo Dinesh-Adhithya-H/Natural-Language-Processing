{
 "cells": [
  {
   "cell_type": "markdown",
   "metadata": {},
   "source": [
    "# Bag of Words"
   ]
  },
  {
   "cell_type": "code",
   "execution_count": 12,
   "metadata": {},
   "outputs": [],
   "source": [
    "import pandas as pd\n",
    "import sklearn\n",
    "from sklearn.feature_extraction.text import CountVectorizer,TfidfVectorizer"
   ]
  },
  {
   "cell_type": "code",
   "execution_count": 4,
   "metadata": {},
   "outputs": [],
   "source": [
    "import nltk\n",
    "from nltk.stem import PorterStemmer"
   ]
  },
  {
   "cell_type": "code",
   "execution_count": 2,
   "metadata": {},
   "outputs": [],
   "source": [
    "sentence_1=\"Shyam performed better than Amina in NLP course\"\n",
    "sentence_2=\"Amina performed better than Shyam in NLP course\""
   ]
  },
  {
   "cell_type": "code",
   "execution_count": 5,
   "metadata": {},
   "outputs": [],
   "source": [
    "analyzer=CountVectorizer().build_analyzer()\n",
    "def stemmed_words(doc):\n",
    "    return (PorterStemmer().stem(w) for w in analyzer(doc))"
   ]
  },
  {
   "cell_type": "code",
   "execution_count": 6,
   "metadata": {},
   "outputs": [],
   "source": [
    "countvec=CountVectorizer(stop_words=\"english\",analyzer=stemmed_words,ngram_range=(1,2))"
   ]
  },
  {
   "cell_type": "code",
   "execution_count": 8,
   "metadata": {},
   "outputs": [],
   "source": [
    "count_data=countvec.fit_transform([sentence_1,sentence_2])"
   ]
  },
  {
   "cell_type": "code",
   "execution_count": 9,
   "metadata": {},
   "outputs": [
    {
     "data": {
      "text/plain": [
       "['amina', 'better', 'cours', 'in', 'nlp', 'perform', 'shyam', 'than']"
      ]
     },
     "execution_count": 9,
     "metadata": {},
     "output_type": "execute_result"
    }
   ],
   "source": [
    "countvec.get_feature_names()"
   ]
  },
  {
   "cell_type": "code",
   "execution_count": 10,
   "metadata": {},
   "outputs": [],
   "source": [
    "df=pd.DataFrame(count_data.toarray(),columns=countvec.get_feature_names())"
   ]
  },
  {
   "cell_type": "code",
   "execution_count": 11,
   "metadata": {},
   "outputs": [
    {
     "data": {
      "text/html": [
       "<div>\n",
       "<style scoped>\n",
       "    .dataframe tbody tr th:only-of-type {\n",
       "        vertical-align: middle;\n",
       "    }\n",
       "\n",
       "    .dataframe tbody tr th {\n",
       "        vertical-align: top;\n",
       "    }\n",
       "\n",
       "    .dataframe thead th {\n",
       "        text-align: right;\n",
       "    }\n",
       "</style>\n",
       "<table border=\"1\" class=\"dataframe\">\n",
       "  <thead>\n",
       "    <tr style=\"text-align: right;\">\n",
       "      <th></th>\n",
       "      <th>amina</th>\n",
       "      <th>better</th>\n",
       "      <th>cours</th>\n",
       "      <th>in</th>\n",
       "      <th>nlp</th>\n",
       "      <th>perform</th>\n",
       "      <th>shyam</th>\n",
       "      <th>than</th>\n",
       "    </tr>\n",
       "  </thead>\n",
       "  <tbody>\n",
       "    <tr>\n",
       "      <th>0</th>\n",
       "      <td>1</td>\n",
       "      <td>1</td>\n",
       "      <td>1</td>\n",
       "      <td>1</td>\n",
       "      <td>1</td>\n",
       "      <td>1</td>\n",
       "      <td>1</td>\n",
       "      <td>1</td>\n",
       "    </tr>\n",
       "    <tr>\n",
       "      <th>1</th>\n",
       "      <td>1</td>\n",
       "      <td>1</td>\n",
       "      <td>1</td>\n",
       "      <td>1</td>\n",
       "      <td>1</td>\n",
       "      <td>1</td>\n",
       "      <td>1</td>\n",
       "      <td>1</td>\n",
       "    </tr>\n",
       "  </tbody>\n",
       "</table>\n",
       "</div>"
      ],
      "text/plain": [
       "   amina  better  cours  in  nlp  perform  shyam  than\n",
       "0      1       1      1   1    1        1      1     1\n",
       "1      1       1      1   1    1        1      1     1"
      ]
     },
     "execution_count": 11,
     "metadata": {},
     "output_type": "execute_result"
    }
   ],
   "source": [
    "df"
   ]
  },
  {
   "cell_type": "markdown",
   "metadata": {},
   "source": [
    "# Term Frequency : TF:IDF"
   ]
  },
  {
   "cell_type": "code",
   "execution_count": 13,
   "metadata": {},
   "outputs": [],
   "source": [
    "corpus = [\n",
    "\n",
    "'NLP is an elective course',\n",
    "'NLP course is relevant for data science and data engineering',\n",
    "'Shyam performed better than Amina in NLP course',\n",
    "'Amina performed better than Shyam in NLP course',\n",
    "]"
   ]
  },
  {
   "cell_type": "code",
   "execution_count": 14,
   "metadata": {},
   "outputs": [],
   "source": [
    "vectorizer=TfidfVectorizer(stop_words=\"english\",ngram_range=(1,1))\n",
    "x=vectorizer.fit_transform(corpus)"
   ]
  },
  {
   "cell_type": "code",
   "execution_count": 19,
   "metadata": {},
   "outputs": [
    {
     "data": {
      "text/plain": [
       "['amina',\n",
       " 'better',\n",
       " 'course',\n",
       " 'data',\n",
       " 'elective',\n",
       " 'engineering',\n",
       " 'nlp',\n",
       " 'performed',\n",
       " 'relevant',\n",
       " 'science',\n",
       " 'shyam']"
      ]
     },
     "execution_count": 19,
     "metadata": {},
     "output_type": "execute_result"
    }
   ],
   "source": [
    "vectorizer.get_feature_names()"
   ]
  },
  {
   "cell_type": "code",
   "execution_count": 15,
   "metadata": {},
   "outputs": [],
   "source": [
    "df1=pd.DataFrame(x.toarray(),columns=vectorizer.get_feature_names())"
   ]
  },
  {
   "cell_type": "code",
   "execution_count": 18,
   "metadata": {},
   "outputs": [
    {
     "data": {
      "text/plain": [
       "array([[0.        , 0.        , 0.41988018, 0.        , 0.8046125 ,\n",
       "        0.        , 0.41988018, 0.        , 0.        , 0.        ,\n",
       "        0.        ],\n",
       "       [0.        , 0.        , 0.18998505, 0.72813318, 0.        ,\n",
       "        0.36406659, 0.18998505, 0.        , 0.36406659, 0.36406659,\n",
       "        0.        ],\n",
       "       [0.45285526, 0.45285526, 0.29974026, 0.        , 0.        ,\n",
       "        0.        , 0.29974026, 0.45285526, 0.        , 0.        ,\n",
       "        0.45285526],\n",
       "       [0.45285526, 0.45285526, 0.29974026, 0.        , 0.        ,\n",
       "        0.        , 0.29974026, 0.45285526, 0.        , 0.        ,\n",
       "        0.45285526]])"
      ]
     },
     "execution_count": 18,
     "metadata": {},
     "output_type": "execute_result"
    }
   ],
   "source": [
    "x.toarray()"
   ]
  },
  {
   "cell_type": "code",
   "execution_count": 16,
   "metadata": {},
   "outputs": [
    {
     "data": {
      "text/html": [
       "<div>\n",
       "<style scoped>\n",
       "    .dataframe tbody tr th:only-of-type {\n",
       "        vertical-align: middle;\n",
       "    }\n",
       "\n",
       "    .dataframe tbody tr th {\n",
       "        vertical-align: top;\n",
       "    }\n",
       "\n",
       "    .dataframe thead th {\n",
       "        text-align: right;\n",
       "    }\n",
       "</style>\n",
       "<table border=\"1\" class=\"dataframe\">\n",
       "  <thead>\n",
       "    <tr style=\"text-align: right;\">\n",
       "      <th></th>\n",
       "      <th>amina</th>\n",
       "      <th>better</th>\n",
       "      <th>course</th>\n",
       "      <th>data</th>\n",
       "      <th>elective</th>\n",
       "      <th>engineering</th>\n",
       "      <th>nlp</th>\n",
       "      <th>performed</th>\n",
       "      <th>relevant</th>\n",
       "      <th>science</th>\n",
       "      <th>shyam</th>\n",
       "    </tr>\n",
       "  </thead>\n",
       "  <tbody>\n",
       "    <tr>\n",
       "      <th>0</th>\n",
       "      <td>0.000000</td>\n",
       "      <td>0.000000</td>\n",
       "      <td>0.419880</td>\n",
       "      <td>0.000000</td>\n",
       "      <td>0.804612</td>\n",
       "      <td>0.000000</td>\n",
       "      <td>0.419880</td>\n",
       "      <td>0.000000</td>\n",
       "      <td>0.000000</td>\n",
       "      <td>0.000000</td>\n",
       "      <td>0.000000</td>\n",
       "    </tr>\n",
       "    <tr>\n",
       "      <th>1</th>\n",
       "      <td>0.000000</td>\n",
       "      <td>0.000000</td>\n",
       "      <td>0.189985</td>\n",
       "      <td>0.728133</td>\n",
       "      <td>0.000000</td>\n",
       "      <td>0.364067</td>\n",
       "      <td>0.189985</td>\n",
       "      <td>0.000000</td>\n",
       "      <td>0.364067</td>\n",
       "      <td>0.364067</td>\n",
       "      <td>0.000000</td>\n",
       "    </tr>\n",
       "    <tr>\n",
       "      <th>2</th>\n",
       "      <td>0.452855</td>\n",
       "      <td>0.452855</td>\n",
       "      <td>0.299740</td>\n",
       "      <td>0.000000</td>\n",
       "      <td>0.000000</td>\n",
       "      <td>0.000000</td>\n",
       "      <td>0.299740</td>\n",
       "      <td>0.452855</td>\n",
       "      <td>0.000000</td>\n",
       "      <td>0.000000</td>\n",
       "      <td>0.452855</td>\n",
       "    </tr>\n",
       "    <tr>\n",
       "      <th>3</th>\n",
       "      <td>0.452855</td>\n",
       "      <td>0.452855</td>\n",
       "      <td>0.299740</td>\n",
       "      <td>0.000000</td>\n",
       "      <td>0.000000</td>\n",
       "      <td>0.000000</td>\n",
       "      <td>0.299740</td>\n",
       "      <td>0.452855</td>\n",
       "      <td>0.000000</td>\n",
       "      <td>0.000000</td>\n",
       "      <td>0.452855</td>\n",
       "    </tr>\n",
       "  </tbody>\n",
       "</table>\n",
       "</div>"
      ],
      "text/plain": [
       "      amina    better    course      data  elective  engineering       nlp  \\\n",
       "0  0.000000  0.000000  0.419880  0.000000  0.804612     0.000000  0.419880   \n",
       "1  0.000000  0.000000  0.189985  0.728133  0.000000     0.364067  0.189985   \n",
       "2  0.452855  0.452855  0.299740  0.000000  0.000000     0.000000  0.299740   \n",
       "3  0.452855  0.452855  0.299740  0.000000  0.000000     0.000000  0.299740   \n",
       "\n",
       "   performed  relevant   science     shyam  \n",
       "0   0.000000  0.000000  0.000000  0.000000  \n",
       "1   0.000000  0.364067  0.364067  0.000000  \n",
       "2   0.452855  0.000000  0.000000  0.452855  \n",
       "3   0.452855  0.000000  0.000000  0.452855  "
      ]
     },
     "execution_count": 16,
     "metadata": {},
     "output_type": "execute_result"
    }
   ],
   "source": [
    "df1"
   ]
  },
  {
   "cell_type": "code",
   "execution_count": null,
   "metadata": {},
   "outputs": [],
   "source": []
  }
 ],
 "metadata": {
  "kernelspec": {
   "display_name": "Python 3",
   "language": "python",
   "name": "python3"
  },
  "language_info": {
   "codemirror_mode": {
    "name": "ipython",
    "version": 3
   },
   "file_extension": ".py",
   "mimetype": "text/x-python",
   "name": "python",
   "nbconvert_exporter": "python",
   "pygments_lexer": "ipython3",
   "version": "3.7.6"
  }
 },
 "nbformat": 4,
 "nbformat_minor": 4
}
