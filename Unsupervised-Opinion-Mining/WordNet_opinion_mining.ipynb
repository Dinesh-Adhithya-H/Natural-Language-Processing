{
  "nbformat": 4,
  "nbformat_minor": 0,
  "metadata": {
    "colab": {
      "name": "WordNet_opinion_mining.ipynb",
      "provenance": [],
      "collapsed_sections": []
    },
    "kernelspec": {
      "name": "python3",
      "display_name": "Python 3"
    },
    "language_info": {
      "name": "python"
    }
  },
  "cells": [
    {
      "cell_type": "code",
      "metadata": {
        "colab": {
          "base_uri": "https://localhost:8080/"
        },
        "id": "5zKQwY7oaq4b",
        "outputId": "225e0c86-4e52-483f-967a-b07cadba48c2"
      },
      "source": [
        "import nltk\n",
        "nltk.download('wordnet')\n",
        "nltk.download('stopwords')\n",
        "from nltk.corpus import wordnet as wn\n",
        "import numpy as np\n",
        "import sklearn as sk\n",
        "import seaborn as sns\n",
        "import pandas as pd\n",
        "from nltk.corpus import stopwords\n",
        "import networkx as nx\n",
        "import matplotlib.pyplot as plt\n",
        "import operator"
      ],
      "execution_count": null,
      "outputs": [
        {
          "output_type": "stream",
          "name": "stdout",
          "text": [
            "[nltk_data] Downloading package wordnet to /root/nltk_data...\n",
            "[nltk_data]   Unzipping corpora/wordnet.zip.\n",
            "[nltk_data] Downloading package stopwords to /root/nltk_data...\n",
            "[nltk_data]   Unzipping corpora/stopwords.zip.\n"
          ]
        }
      ]
    },
    {
      "cell_type": "code",
      "metadata": {
        "colab": {
          "base_uri": "https://localhost:8080/"
        },
        "id": "5NU0xZA6j3Cb",
        "outputId": "0cfde4ab-60d1-457a-d517-2d652384967c"
      },
      "source": [
        "!wget https://github.com/Dinesh-Adhithya-H/Natural-Language-Processing/blob/main/Unsupervised-Opinion-Mining/assignment3_data.xlsx?raw=true\n",
        "!wget !wget https://github.com/Dinesh-Adhithya-H/Natural-Language-Processing/blob/main/Unsupervised-Opinion-Mining/assignment3_gold_labels.xlsx?raw=true"
      ],
      "execution_count": null,
      "outputs": [
        {
          "output_type": "stream",
          "name": "stdout",
          "text": [
            "--2021-11-15 07:36:30--  https://github.com/Dinesh-Adhithya-H/Natural-Language-Processing/blob/main/Unsupervised-Opinion-Mining/assignment3_data.xlsx?raw=true\n",
            "Resolving github.com (github.com)... 140.82.113.3\n",
            "Connecting to github.com (github.com)|140.82.113.3|:443... connected.\n",
            "HTTP request sent, awaiting response... 302 Found\n",
            "Location: https://github.com/Dinesh-Adhithya-H/Natural-Language-Processing/raw/main/Unsupervised-Opinion-Mining/assignment3_data.xlsx [following]\n",
            "--2021-11-15 07:36:30--  https://github.com/Dinesh-Adhithya-H/Natural-Language-Processing/raw/main/Unsupervised-Opinion-Mining/assignment3_data.xlsx\n",
            "Reusing existing connection to github.com:443.\n",
            "HTTP request sent, awaiting response... 302 Found\n",
            "Location: https://raw.githubusercontent.com/Dinesh-Adhithya-H/Natural-Language-Processing/main/Unsupervised-Opinion-Mining/assignment3_data.xlsx [following]\n",
            "--2021-11-15 07:36:30--  https://raw.githubusercontent.com/Dinesh-Adhithya-H/Natural-Language-Processing/main/Unsupervised-Opinion-Mining/assignment3_data.xlsx\n",
            "Resolving raw.githubusercontent.com (raw.githubusercontent.com)... 185.199.108.133, 185.199.109.133, 185.199.110.133, ...\n",
            "Connecting to raw.githubusercontent.com (raw.githubusercontent.com)|185.199.108.133|:443... connected.\n",
            "HTTP request sent, awaiting response... 200 OK\n",
            "Length: 7874 (7.7K) [application/octet-stream]\n",
            "Saving to: ‘assignment3_data.xlsx?raw=true’\n",
            "\n",
            "assignment3_data.xl 100%[===================>]   7.69K  --.-KB/s    in 0s      \n",
            "\n",
            "2021-11-15 07:36:30 (88.1 MB/s) - ‘assignment3_data.xlsx?raw=true’ saved [7874/7874]\n",
            "\n",
            "--2021-11-15 07:36:30--  http://!wget/\n",
            "Resolving !wget (!wget)... failed: Name or service not known.\n",
            "wget: unable to resolve host address ‘!wget’\n",
            "--2021-11-15 07:36:30--  https://github.com/Dinesh-Adhithya-H/Natural-Language-Processing/blob/main/Unsupervised-Opinion-Mining/assignment3_gold_labels.xlsx?raw=true\n",
            "Resolving github.com (github.com)... 140.82.113.4\n",
            "Connecting to github.com (github.com)|140.82.113.4|:443... connected.\n",
            "HTTP request sent, awaiting response... 302 Found\n",
            "Location: https://github.com/Dinesh-Adhithya-H/Natural-Language-Processing/raw/main/Unsupervised-Opinion-Mining/assignment3_gold_labels.xlsx [following]\n",
            "--2021-11-15 07:36:31--  https://github.com/Dinesh-Adhithya-H/Natural-Language-Processing/raw/main/Unsupervised-Opinion-Mining/assignment3_gold_labels.xlsx\n",
            "Reusing existing connection to github.com:443.\n",
            "HTTP request sent, awaiting response... 302 Found\n",
            "Location: https://raw.githubusercontent.com/Dinesh-Adhithya-H/Natural-Language-Processing/main/Unsupervised-Opinion-Mining/assignment3_gold_labels.xlsx [following]\n",
            "--2021-11-15 07:36:31--  https://raw.githubusercontent.com/Dinesh-Adhithya-H/Natural-Language-Processing/main/Unsupervised-Opinion-Mining/assignment3_gold_labels.xlsx\n",
            "Resolving raw.githubusercontent.com (raw.githubusercontent.com)... 185.199.108.133, 185.199.111.133, 185.199.109.133, ...\n",
            "Connecting to raw.githubusercontent.com (raw.githubusercontent.com)|185.199.108.133|:443... connected.\n",
            "HTTP request sent, awaiting response... 200 OK\n",
            "Length: 7377 (7.2K) [application/octet-stream]\n",
            "Saving to: ‘assignment3_gold_labels.xlsx?raw=true’\n",
            "\n",
            "assignment3_gold_la 100%[===================>]   7.20K  --.-KB/s    in 0s      \n",
            "\n",
            "2021-11-15 07:36:31 (75.4 MB/s) - ‘assignment3_gold_labels.xlsx?raw=true’ saved [7377/7377]\n",
            "\n",
            "FINISHED --2021-11-15 07:36:31--\n",
            "Total wall clock time: 0.5s\n",
            "Downloaded: 1 files, 7.2K in 0s (75.4 MB/s)\n"
          ]
        }
      ]
    },
    {
      "cell_type": "code",
      "metadata": {
        "id": "be0zN1PlnoqN"
      },
      "source": [
        "data=pd.read_excel(\"assignment3_data.xlsx?raw=true\")\n",
        "data=np.array(data).flatten()"
      ],
      "execution_count": null,
      "outputs": []
    },
    {
      "cell_type": "code",
      "metadata": {
        "id": "TGunQ3z2Y6Iu"
      },
      "source": [
        "data_true=np.array(pd.read_excel(\"assignment3_gold_labels.xlsx?raw=true\")).flatten()"
      ],
      "execution_count": null,
      "outputs": []
    },
    {
      "cell_type": "code",
      "metadata": {
        "colab": {
          "base_uri": "https://localhost:8080/"
        },
        "id": "aiDMAJfIQibX",
        "outputId": "bb9b4280-76df-4786-de40-bea6347fbde1"
      },
      "source": [
        "data_true"
      ],
      "execution_count": null,
      "outputs": [
        {
          "output_type": "execute_result",
          "data": {
            "text/plain": [
              "array(['confident', 'determination', 'diplomacy', 'honesty',\n",
              "       'intelligence/knowledge', 'leadership', 'long term vision',\n",
              "       'political skills ', 'relate to diverse groups', 'humble'],\n",
              "      dtype=object)"
            ]
          },
          "metadata": {},
          "execution_count": 5
        }
      ]
    },
    {
      "cell_type": "code",
      "metadata": {
        "id": "YVeCVdgJY95f"
      },
      "source": [
        "data_true=['confident', 'determination', 'diplomacy', 'honesty',\n",
        "       'intelligence', 'leadership', 'vision',\n",
        "       'political','skills', 'diversity', 'humble','knowledge']"
      ],
      "execution_count": null,
      "outputs": []
    },
    {
      "cell_type": "code",
      "metadata": {
        "id": "vz9slyXJR5ot"
      },
      "source": [
        "wn.wup_similarity(wn.synsets(\"happy\")[0],wn.synsets(\"sad\")[0])"
      ],
      "execution_count": null,
      "outputs": []
    },
    {
      "cell_type": "code",
      "metadata": {
        "colab": {
          "base_uri": "https://localhost:8080/"
        },
        "id": "aWThtQB3ZXWn",
        "outputId": "5d7778f8-409f-424b-f53d-bb1bc4dea045"
      },
      "source": [
        "for i in data_true:\n",
        "  print(len(wn.synsets(i)))"
      ],
      "execution_count": null,
      "outputs": [
        {
          "output_type": "stream",
          "name": "stdout",
          "text": [
            "3\n",
            "5\n",
            "3\n",
            "2\n",
            "5\n",
            "4\n",
            "5\n",
            "3\n",
            "2\n",
            "2\n",
            "6\n",
            "1\n"
          ]
        }
      ]
    },
    {
      "cell_type": "code",
      "metadata": {
        "id": "JdEcO03vZEdc"
      },
      "source": [
        "def evaluation(x,y):\n",
        "  score=0\n",
        "  for i in x:\n",
        "    syn1=wn.synsets(i.lower())\n",
        "    cur_scores=[0]\n",
        "    for j in y:\n",
        "      syn2=wn.synsets(j.lower())\n",
        "      if len(syn1)*len(syn2)>0 and wn.wup_similarity(syn1[0],syn2[0])!=None: \n",
        "        cur_scores.append(wn.wup_similarity(syn1[0],syn2[0]))\n",
        "    #print(type(score),type(cur_scores))\n",
        "    score+=max(cur_scores)\n",
        "  return score/len(x)"
      ],
      "execution_count": null,
      "outputs": []
    },
    {
      "cell_type": "code",
      "metadata": {
        "colab": {
          "base_uri": "https://localhost:8080/"
        },
        "id": "FqWQuo9xb114",
        "outputId": "6ac70a7a-a15a-4702-e1d1-6a625aeb1590"
      },
      "source": [
        "evaluation([\"lol\",\"happy\"],[\"moron\"])"
      ],
      "execution_count": null,
      "outputs": [
        {
          "output_type": "execute_result",
          "data": {
            "text/plain": [
              "0.0"
            ]
          },
          "metadata": {},
          "execution_count": 10
        }
      ]
    },
    {
      "cell_type": "code",
      "metadata": {
        "id": "Nw-wNMdfopeN"
      },
      "source": [
        "stop_words = set(stopwords.words('english'))"
      ],
      "execution_count": null,
      "outputs": []
    },
    {
      "cell_type": "code",
      "metadata": {
        "id": "YMeEjtOynyNb"
      },
      "source": [
        "vocab=[]\n",
        "for i in data:\n",
        "  i=i.rstrip(\".\")\n",
        "  for j in i.split(\" \"):\n",
        "    j=j.strip(\",\")\n",
        "    j=j.lower()\n",
        "    if j not in stop_words:\n",
        "      vocab.append(j.lower())"
      ],
      "execution_count": null,
      "outputs": []
    },
    {
      "cell_type": "code",
      "metadata": {
        "id": "qXs0r93VqpS0"
      },
      "source": [
        "vocab_similar=[]\n",
        "for i in vocab:\n",
        "  syn=wn.synsets(i)\n",
        "  if len(syn)!=0:\n",
        "    sel=syn[0]\n",
        "    for k in syn:\n",
        "      if k.name().split(\".\")[1]==\"a\":\n",
        "        sel=k\n",
        "      break\n",
        "    for j in sel.lemmas():\n",
        "      vocab_similar.append(j.name())\n",
        "  vocab_similar.append(i)"
      ],
      "execution_count": null,
      "outputs": []
    },
    {
      "cell_type": "code",
      "metadata": {
        "id": "aJ8ejpsZ7Rhm"
      },
      "source": [
        "from collections import defaultdict,OrderedDict\n",
        "frequency_counter=defaultdict(int)\n",
        "for i in vocab_similar:\n",
        "  frequency_counter[i]+=1\n",
        "frequency_counter = sorted(frequency_counter.items(), key=lambda x: x[1])    "
      ],
      "execution_count": null,
      "outputs": []
    },
    {
      "cell_type": "code",
      "metadata": {
        "colab": {
          "base_uri": "https://localhost:8080/"
        },
        "id": "dSP0BDeR9XZo",
        "outputId": "144ea345-0ace-47f9-c639-5155e5eff797"
      },
      "source": [
        "words_freq_counter=[]\n",
        "freq=[]\n",
        "for i in frequency_counter:\n",
        "  if (i[1]>5):\n",
        "    print(i[0],end=\" \")\n",
        "    words_freq_counter.append(i[0])\n",
        "    freq.append(i[1])"
      ],
      "execution_count": null,
      "outputs": [
        {
          "output_type": "stream",
          "name": "stdout",
          "text": [
            "country people integrity honestness determination intelligence good president smart experience leading honesty leadership "
          ]
        }
      ]
    },
    {
      "cell_type": "code",
      "metadata": {
        "colab": {
          "base_uri": "https://localhost:8080/"
        },
        "id": "UfCCyEkaQ4jD",
        "outputId": "cd088ea4-449d-4284-b010-4917645e7dff"
      },
      "source": [
        "words_freq_counter"
      ],
      "execution_count": null,
      "outputs": [
        {
          "output_type": "execute_result",
          "data": {
            "text/plain": [
              "['country',\n",
              " 'people',\n",
              " 'integrity',\n",
              " 'honestness',\n",
              " 'determination',\n",
              " 'intelligence',\n",
              " 'good',\n",
              " 'president',\n",
              " 'smart',\n",
              " 'experience',\n",
              " 'leading',\n",
              " 'honesty',\n",
              " 'leadership']"
            ]
          },
          "metadata": {},
          "execution_count": 16
        }
      ]
    },
    {
      "cell_type": "code",
      "metadata": {
        "colab": {
          "base_uri": "https://localhost:8080/",
          "height": 607
        },
        "id": "NLcODAVO4qPH",
        "outputId": "d5412883-2f63-465c-c7e0-a569c556b5c3"
      },
      "source": [
        "plt.figure(figsize=(25,10))\n",
        "plt.bar(words_freq_counter ,freq )\n",
        "plt.xlabel(\"Words in extend vocabulary\")\n",
        "plt.ylabel(\"Word Frequency\")"
      ],
      "execution_count": null,
      "outputs": [
        {
          "output_type": "execute_result",
          "data": {
            "text/plain": [
              "Text(0, 0.5, 'Word Frequency')"
            ]
          },
          "metadata": {},
          "execution_count": 17
        },
        {
          "output_type": "display_data",
          "data": {
            "image/png": "[encoded data removed]",
            "text/plain": [
              "<Figure size 1800x720 with 1 Axes>"
            ]
          },
          "metadata": {
            "needs_background": "light"
          }
        }
      ]
    },
    {
      "cell_type": "code",
      "metadata": {
        "colab": {
          "base_uri": "https://localhost:8080/"
        },
        "id": "dDcsk0n8_Vxh",
        "outputId": "a2296a74-5720-444e-c85d-3e8fc2cbba2c"
      },
      "source": [
        "evaluation(words_freq_counter,['confident', 'determination', 'diplomacy', 'honesty',\n",
        "       'intelligence', 'leadership', 'vision',\n",
        "       'political','skills', 'diversity', 'humble','knowledge'])"
      ],
      "execution_count": null,
      "outputs": [
        {
          "output_type": "execute_result",
          "data": {
            "text/plain": [
              "0.6593918901611209"
            ]
          },
          "metadata": {},
          "execution_count": 18
        }
      ]
    },
    {
      "cell_type": "code",
      "metadata": {
        "id": "Yy3YWZ-VUEMx"
      },
      "source": [
        "def sim(mat):\n",
        "    thres = 0.8\n",
        "    l = []\n",
        "    for i in mat:\n",
        "        m = []\n",
        "        for j in mat:\n",
        "          if len(wn.synsets(i))*len(wn.synsets(j))>0:\n",
        "            si = wn.wup_similarity(wn.synsets(i)[0],wn.synsets(j)[0])\n",
        "            if(si == None):\n",
        "                continue\n",
        "            if(si > thres):\n",
        "                m.extend((i,j))\n",
        "        l.append(m)\n",
        "    return l\n",
        "\n",
        "S = sim(vocab_similar)"
      ],
      "execution_count": null,
      "outputs": []
    },
    {
      "cell_type": "code",
      "metadata": {
        "id": "JixwmJ5aUEPN"
      },
      "source": [
        "S1 = []\n",
        "for i in S:\n",
        "    if len(set(i)) >= 1:\n",
        "        S1.append(list(set(i)))"
      ],
      "execution_count": null,
      "outputs": []
    },
    {
      "cell_type": "code",
      "metadata": {
        "id": "JESndKUKUESd"
      },
      "source": [
        "dict1 = {}\n",
        "for i in set(vocab_similar):\n",
        "    for j in S1:\n",
        "        for k in j:\n",
        "            if(i in wn.synsets(k)[0].lemma_names()):\n",
        "                dict1[i] = sorted(list(set(j)))"
      ],
      "execution_count": null,
      "outputs": []
    },
    {
      "cell_type": "code",
      "metadata": {
        "id": "mFbo-ImkUEVM"
      },
      "source": [
        "dict2 = {}\n",
        "for key, value in dict1.items():\n",
        "    dict2[tuple(value)] = key\n",
        "\n",
        "dict1 = {}\n",
        "for k, v in dict2.items():\n",
        "    dict1[v] = list(k)"
      ],
      "execution_count": null,
      "outputs": []
    },
    {
      "cell_type": "code",
      "metadata": {
        "id": "L_28nBGOUEX5"
      },
      "source": [
        "\n",
        "p = []\n",
        "q = []\n",
        "for x, y in dict1.items():\n",
        "    a = []\n",
        "    p.append(x)\n",
        "    for i in y:\n",
        "        a.append(wn.synsets(i)[0].lemma_names())\n",
        "    q.append(sum(a, []))\n",
        "\n",
        "r = []\n",
        "for i in q:\n",
        "    r.append(sorted(list(set(i))))\n",
        "\n",
        "t = []\n",
        "for i in list(dict1.values()):\n",
        "    z = []\n",
        "    for j in i:\n",
        "        z.append(wn.synsets(j)[0].name())\n",
        "    t.append(z)\n",
        "\n",
        "for i in range(len(r)):\n",
        "    r[i].append(t[i])\n",
        "\n",
        "for i in r:\n",
        "    for j in i:\n",
        "        if isinstance(j,list):\n",
        "            for k in j:\n",
        "                i.append(k)\n",
        "            i.remove(j)"
      ],
      "execution_count": null,
      "outputs": []
    },
    {
      "cell_type": "code",
      "metadata": {
        "id": "-Y5NAlsAUEbC"
      },
      "source": [
        "df = pd.DataFrame(columns = [\"Word\",\"Frequency\",\"Clusters\"])\n",
        "df[\"Word\"] = p\n",
        "df[\"Clusters\"] = r"
      ],
      "execution_count": null,
      "outputs": []
    },
    {
      "cell_type": "code",
      "metadata": {
        "id": "GrV3iUKAUEd2",
        "colab": {
          "base_uri": "https://localhost:8080/",
          "height": 417
        },
        "outputId": "d67da4fe-2552-47c2-996f-598e3e4be2a9"
      },
      "source": [
        "df"
      ],
      "execution_count": null,
      "outputs": [
        {
          "output_type": "execute_result",
          "data": {
            "text/html": [
              "<div>\n",
              "<style scoped>\n",
              "    .dataframe tbody tr th:only-of-type {\n",
              "        vertical-align: middle;\n",
              "    }\n",
              "\n",
              "    .dataframe tbody tr th {\n",
              "        vertical-align: top;\n",
              "    }\n",
              "\n",
              "    .dataframe thead th {\n",
              "        text-align: right;\n",
              "    }\n",
              "</style>\n",
              "<table border=\"1\" class=\"dataframe\">\n",
              "  <thead>\n",
              "    <tr style=\"text-align: right;\">\n",
              "      <th></th>\n",
              "      <th>Word</th>\n",
              "      <th>Frequency</th>\n",
              "      <th>Clusters</th>\n",
              "    </tr>\n",
              "  </thead>\n",
              "  <tbody>\n",
              "    <tr>\n",
              "      <th>0</th>\n",
              "      <td>park</td>\n",
              "      <td>NaN</td>\n",
              "      <td>[common, commons, green, park, parkland, park....</td>\n",
              "    </tr>\n",
              "    <tr>\n",
              "      <th>1</th>\n",
              "      <td>juncture</td>\n",
              "      <td>NaN</td>\n",
              "      <td>[articulation, join, joint, junction, juncture...</td>\n",
              "    </tr>\n",
              "    <tr>\n",
              "      <th>2</th>\n",
              "      <td>politics</td>\n",
              "      <td>NaN</td>\n",
              "      <td>[political_relation, politics, politics.n.01, ...</td>\n",
              "    </tr>\n",
              "    <tr>\n",
              "      <th>3</th>\n",
              "      <td>grouping</td>\n",
              "      <td>NaN</td>\n",
              "      <td>[group, grouping, people, group.n.01, group.n....</td>\n",
              "    </tr>\n",
              "    <tr>\n",
              "      <th>4</th>\n",
              "      <td>entreaty</td>\n",
              "      <td>NaN</td>\n",
              "      <td>[appeal, entreaty, prayer, entreaty.n.01, entr...</td>\n",
              "    </tr>\n",
              "    <tr>\n",
              "      <th>...</th>\n",
              "      <td>...</td>\n",
              "      <td>...</td>\n",
              "      <td>...</td>\n",
              "    </tr>\n",
              "    <tr>\n",
              "      <th>106</th>\n",
              "      <td>sophisticate</td>\n",
              "      <td>NaN</td>\n",
              "      <td>[sophisticate, sophisticate.v.01]</td>\n",
              "    </tr>\n",
              "    <tr>\n",
              "      <th>107</th>\n",
              "      <td>able</td>\n",
              "      <td>NaN</td>\n",
              "      <td>[able, able.a.01]</td>\n",
              "    </tr>\n",
              "    <tr>\n",
              "      <th>108</th>\n",
              "      <td>political</td>\n",
              "      <td>NaN</td>\n",
              "      <td>[political, political.a.01]</td>\n",
              "    </tr>\n",
              "    <tr>\n",
              "      <th>109</th>\n",
              "      <td>politically</td>\n",
              "      <td>NaN</td>\n",
              "      <td>[politically, politically.r.01]</td>\n",
              "    </tr>\n",
              "    <tr>\n",
              "      <th>110</th>\n",
              "      <td>background</td>\n",
              "      <td>NaN</td>\n",
              "      <td>[background, background.n.01]</td>\n",
              "    </tr>\n",
              "  </tbody>\n",
              "</table>\n",
              "<p>111 rows × 3 columns</p>\n",
              "</div>"
            ],
            "text/plain": [
              "             Word Frequency                                           Clusters\n",
              "0            park       NaN  [common, commons, green, park, parkland, park....\n",
              "1        juncture       NaN  [articulation, join, joint, junction, juncture...\n",
              "2        politics       NaN  [political_relation, politics, politics.n.01, ...\n",
              "3        grouping       NaN  [group, grouping, people, group.n.01, group.n....\n",
              "4        entreaty       NaN  [appeal, entreaty, prayer, entreaty.n.01, entr...\n",
              "..            ...       ...                                                ...\n",
              "106  sophisticate       NaN                  [sophisticate, sophisticate.v.01]\n",
              "107          able       NaN                                  [able, able.a.01]\n",
              "108     political       NaN                        [political, political.a.01]\n",
              "109   politically       NaN                    [politically, politically.r.01]\n",
              "110    background       NaN                      [background, background.n.01]\n",
              "\n",
              "[111 rows x 3 columns]"
            ]
          },
          "metadata": {},
          "execution_count": 25
        }
      ]
    },
    {
      "cell_type": "code",
      "metadata": {
        "id": "eFN8g2LEUEgl"
      },
      "source": [
        "frq = []\n",
        "for x, y in df.iterrows():\n",
        "    f = 0\n",
        "    for i in range(len(y[\"Clusters\"])):\n",
        "        f += vocab_similar.count(y.Clusters[i])\n",
        "    frq.append(f)\n",
        "\n",
        "df[\"Frequency\"] = frq\n",
        "df = df.sort_values(by = [\"Frequency\"], ascending = False)"
      ],
      "execution_count": null,
      "outputs": []
    },
    {
      "cell_type": "code",
      "metadata": {
        "id": "_xv-DeGsE8-s"
      },
      "source": [
        "pd.set_option('display.width', 1000)\n"
      ],
      "execution_count": null,
      "outputs": []
    },
    {
      "cell_type": "code",
      "metadata": {
        "colab": {
          "base_uri": "https://localhost:8080/",
          "height": 417
        },
        "id": "Q0cnTfiKF07f",
        "outputId": "afbc54ce-b61e-4796-8a0c-aec49d438da9"
      },
      "source": [
        "df"
      ],
      "execution_count": null,
      "outputs": [
        {
          "output_type": "execute_result",
          "data": {
            "text/html": [
              "<div>\n",
              "<style scoped>\n",
              "    .dataframe tbody tr th:only-of-type {\n",
              "        vertical-align: middle;\n",
              "    }\n",
              "\n",
              "    .dataframe tbody tr th {\n",
              "        vertical-align: top;\n",
              "    }\n",
              "\n",
              "    .dataframe thead th {\n",
              "        text-align: right;\n",
              "    }\n",
              "</style>\n",
              "<table border=\"1\" class=\"dataframe\">\n",
              "  <thead>\n",
              "    <tr style=\"text-align: right;\">\n",
              "      <th></th>\n",
              "      <th>Word</th>\n",
              "      <th>Frequency</th>\n",
              "      <th>Clusters</th>\n",
              "    </tr>\n",
              "  </thead>\n",
              "  <tbody>\n",
              "    <tr>\n",
              "      <th>11</th>\n",
              "      <td>work</td>\n",
              "      <td>32</td>\n",
              "      <td>[business, job, leadership, leading, line, lin...</td>\n",
              "    </tr>\n",
              "    <tr>\n",
              "      <th>41</th>\n",
              "      <td>plenty</td>\n",
              "      <td>28</td>\n",
              "      <td>[batch, deal, flock, good_deal, great_deal, ha...</td>\n",
              "    </tr>\n",
              "    <tr>\n",
              "      <th>27</th>\n",
              "      <td>quality</td>\n",
              "      <td>26</td>\n",
              "      <td>[honestness, honesty, kindness, morality, qual...</td>\n",
              "    </tr>\n",
              "    <tr>\n",
              "      <th>35</th>\n",
              "      <td>body_politic</td>\n",
              "      <td>24</td>\n",
              "      <td>[body_politic, commonwealth, country, land, na...</td>\n",
              "    </tr>\n",
              "    <tr>\n",
              "      <th>49</th>\n",
              "      <td>intelligence</td>\n",
              "      <td>19</td>\n",
              "      <td>[accomplishment, acquirement, acquisition, att...</td>\n",
              "    </tr>\n",
              "    <tr>\n",
              "      <th>...</th>\n",
              "      <td>...</td>\n",
              "      <td>...</td>\n",
              "      <td>...</td>\n",
              "    </tr>\n",
              "    <tr>\n",
              "      <th>88</th>\n",
              "      <td>BASIC</td>\n",
              "      <td>1</td>\n",
              "      <td>[BASIC, basic.n.01, basic.n.01]</td>\n",
              "    </tr>\n",
              "    <tr>\n",
              "      <th>106</th>\n",
              "      <td>sophisticate</td>\n",
              "      <td>1</td>\n",
              "      <td>[sophisticate, sophisticate.v.01]</td>\n",
              "    </tr>\n",
              "    <tr>\n",
              "      <th>60</th>\n",
              "      <td>Nice</td>\n",
              "      <td>1</td>\n",
              "      <td>[Nice, nice.n.01, nice.n.01]</td>\n",
              "    </tr>\n",
              "    <tr>\n",
              "      <th>94</th>\n",
              "      <td>International</td>\n",
              "      <td>1</td>\n",
              "      <td>[International, international.n.01, internatio...</td>\n",
              "    </tr>\n",
              "    <tr>\n",
              "      <th>83</th>\n",
              "      <td>system</td>\n",
              "      <td>1</td>\n",
              "      <td>[system, system.n.01, system.n.01]</td>\n",
              "    </tr>\n",
              "  </tbody>\n",
              "</table>\n",
              "<p>111 rows × 3 columns</p>\n",
              "</div>"
            ],
            "text/plain": [
              "              Word  ...                                           Clusters\n",
              "11            work  ...  [business, job, leadership, leading, line, lin...\n",
              "41          plenty  ...  [batch, deal, flock, good_deal, great_deal, ha...\n",
              "27         quality  ...  [honestness, honesty, kindness, morality, qual...\n",
              "35    body_politic  ...  [body_politic, commonwealth, country, land, na...\n",
              "49    intelligence  ...  [accomplishment, acquirement, acquisition, att...\n",
              "..             ...  ...                                                ...\n",
              "88           BASIC  ...                    [BASIC, basic.n.01, basic.n.01]\n",
              "106   sophisticate  ...                  [sophisticate, sophisticate.v.01]\n",
              "60            Nice  ...                       [Nice, nice.n.01, nice.n.01]\n",
              "94   International  ...  [International, international.n.01, internatio...\n",
              "83          system  ...                 [system, system.n.01, system.n.01]\n",
              "\n",
              "[111 rows x 3 columns]"
            ]
          },
          "metadata": {},
          "execution_count": 28
        }
      ]
    },
    {
      "cell_type": "code",
      "metadata": {
        "colab": {
          "base_uri": "https://localhost:8080/",
          "height": 120
        },
        "id": "oLi5dlR1GVws",
        "outputId": "1281cac5-db92-432d-eb30-822c0dd9cd25"
      },
      "source": [
        "df.to_csv()"
      ],
      "execution_count": null,
      "outputs": [
        {
          "output_type": "execute_result",
          "data": {
            "application/vnd.google.colaboratory.intrinsic+json": {
              "type": "string"
            },
            "text/plain": [
              "',Word,Frequency,Clusters\\n11,work,32,\"[\\'business\\', \\'job\\', \\'leadership\\', \\'leading\\', \\'line\\', \\'line_of_work\\', \\'occupation\\', \\'work\\', \\'occupation.n.01\\', \\'leadership.n.01\\', \\'work.n.01\\']\"\\n41,plenty,28,\"[\\'batch\\', \\'deal\\', \\'flock\\', \\'good_deal\\', \\'great_deal\\', \\'hatful\\', \\'heap\\', \\'lot\\', \\'mass\\', \\'mess\\', \\'mickle\\', \\'mint\\', \\'mountain\\', \\'muckle\\', \\'passel\\', \\'peck\\', \\'pile\\', \\'plenty\\', \\'pot\\', \\'quite_a_little\\', \\'raft\\', \\'sight\\', \\'slew\\', \\'spate\\', \\'stack\\', \\'tidy_sum\\', \\'wad\\', \\'batch.n.02\\', \\'batch.n.02\\', \\'batch.n.02\\', \\'batch.n.02\\', \\'batch.n.02\\', \\'batch.n.02\\', \\'batch.n.02\\', \\'batch.n.02\\', \\'batch.n.02\\', \\'batch.n.02\\', \\'batch.n.02\\', \\'batch.n.02\\', \\'batch.n.02\\']\"\\n27,quality,26,\"[\\'honestness\\', \\'honesty\\', \\'kindness\\', \\'morality\\', \\'quality\\', \\'honesty.n.01\\', \\'honesty.n.01\\', \\'kindness.n.01\\', \\'morality.n.01\\', \\'quality.n.01\\', \\'quality.n.01\\']\"\\n35,body_politic,24,\"[\\'body_politic\\', \\'commonwealth\\', \\'country\\', \\'land\\', \\'nation\\', \\'res_publica\\', \\'state\\', \\'state.n.04\\', \\'state.n.04\\', \\'state.n.04\\', \\'state.n.04\\']\"\\n49,intelligence,19,\"[\\'accomplishment\\', \\'acquirement\\', \\'acquisition\\', \\'attainment\\', \\'intelligence\\', \\'skill\\', \\'skill.n.01\\', \\'intelligence.n.01\\', \\'skill.n.01\\', \\'skill.n.01\\']\"\\n22,wholeness,16,\"[\\'integrity\\', \\'unity\\', \\'wholeness\\', \\'integrity.n.01\\', \\'integrity.n.01\\', \\'integrity.n.01\\']\"\\n59,smartness,16,\"[\\'smart\\', \\'smarting\\', \\'smartness\\', \\'smart.n.01\\', \\'smart.n.01\\', \\'smart.n.01\\']\"\\n23,somebody,14,\"[\\'individual\\', \\'mortal\\', \\'person\\', \\'somebody\\', \\'someone\\', \\'soul\\', \\'person.n.01\\', \\'person.n.01\\', \\'person.n.01\\', \\'person.n.01\\', \\'person.n.01\\']\"\\n46,apprehension,13,\"[\\'apprehension\\', \\'discernment\\', \\'knowing\\', \\'savvy\\', \\'sense\\', \\'understanding\\', \\'understanding.n.01\\', \\'knowing.n.01\\', \\'understanding.n.01\\', \\'sense.n.01\\', \\'understanding.n.01\\']\"\\n43,decision,13,\"[\\'conclusion\\', \\'decision\\', \\'determination\\', \\'parti_pris\\', \\'preconceived_idea\\', \\'preconceived_notion\\', \\'preconceived_opinion\\', \\'preconception\\', \\'prepossession\\', \\'decision.n.02\\', \\'preconception.n.01\\']\"\\n5,resolution,13,\"[\\'determination\\', \\'finding\\', \\'resolution\\', \\'solving\\', \\'determination.n.01\\', \\'determination.n.01\\', \\'resolution.n.04\\']\"\\n36,equanimity,12,\"[\\'calm\\', \\'calmness\\', \\'composure\\', \\'equanimity\\', \\'willingness\\', \\'composure.n.01\\', \\'composure.n.01\\', \\'composure.n.01\\', \\'composure.n.01\\', \\'willingness.n.01\\']\"\\n63,run,11,\"[\\'accomplishment\\', \\'achievement\\', \\'action\\', \\'attainment\\', \\'run\\', \\'tally\\', \\'accomplishment.n.01\\', \\'accomplishment.n.01\\', \\'action.n.01\\', \\'attainment.n.01\\', \\'run.n.01\\', \\'run.n.01\\']\"\\n3,grouping,10,\"[\\'group\\', \\'grouping\\', \\'people\\', \\'group.n.01\\', \\'group.n.01\\', \\'group.n.01\\', \\'people.n.01\\']\"\\n18,tending,10,\"[\\'aid\\', \\'attention\\', \\'care\\', \\'service\\', \\'tending\\', \\'work\\', \\'care.n.01\\', \\'service.n.01\\', \\'care.n.01\\', \\'work.n.01\\']\"\\n42,making,8,\"[\\'devising\\', \\'fashioning\\', \\'making\\', \\'devising.n.01\\', \\'devising.n.01\\', \\'devising.n.01\\']\"\\n76,president,8,\"[\\'president\\', \\'president.n.01\\']\"\\n32,good,8,\"[\\'good\\', \\'good.n.01\\']\"\\n30,retard,8,\"[\\'changeling\\', \\'cretin\\', \\'half-wit\\', \\'idiot\\', \\'imbecile\\', \\'moron\\', \\'retard\\', \\'idiot.n.01\\', \\'idiot.n.01\\', \\'idiot.n.01\\', \\'idiot.n.01\\', \\'idiot.n.01\\', \\'idiot.n.01\\', \\'idiot.n.01\\']\"\\n75,empathy,8,\"[\\'compassion\\', \\'compassionateness\\', \\'empathy\\', \\'compassion.n.01\\', \\'compassion.n.01\\', \\'empathy.n.01\\']\"\\n53,experience,8,\"[\\'experience\\', \\'experience.n.01\\']\"\\n9,fluent,7,\"[\\'eloquent\\', \\'facile\\', \\'fluent\\', \\'silver\\', \\'silver-tongued\\', \\'smooth-spoken\\', \\'eloquent.s.01\\', \\'eloquent.s.01\\', \\'eloquent.s.01\\']\"\\n17,bias,7,\"[\\'bias\\', \\'preconception\\', \\'prejudice\\', \\'bias.n.01\\', \\'bias.n.01\\', \\'bias.n.01\\']\"\\n86,via_media,7,\"[\\'compromise\\', \\'teamwork\\', \\'via_media\\', \\'compromise.n.01\\', \\'teamwork.n.01\\', \\'compromise.n.01\\']\"\\n97,decisiveness,7,\"[\\'decision\\', \\'decisiveness\\', \\'decisiveness.n.01\\']\"\\n45,execute,7,\"[\\'accomplish\\', \\'action\\', \\'carry_out\\', \\'carry_through\\', \\'execute\\', \\'fulfil\\', \\'fulfill\\', \\'carry_through.v.01\\', \\'carry_through.v.01\\', \\'carry_through.v.01\\', \\'carry_through.v.01\\', \\'carry_through.v.01\\', \\'carry_through.v.01\\']\"\\n33,well-read,7,\"[\\'knowing\\', \\'knowledgeable\\', \\'learned\\', \\'lettered\\', \\'well-educated\\', \\'well-read\\', \\'knowing.s.04\\', \\'knowing.s.04\\']\"\\n62,come,6,\"[\\'come\\', \\'cum\\', \\'ejaculate\\', \\'seed\\', \\'semen\\', \\'seminal_fluid\\', \\'semen.n.01\\', \\'semen.n.01\\', \\'semen.n.01\\', \\'semen.n.01\\', \\'semen.n.01\\', \\'semen.n.01\\']\"\\n8,thought,6,\"[\\'end\\', \\'goal\\', \\'idea\\', \\'thought\\', \\'whole\\', \\'goal.n.01\\', \\'goal.n.01\\', \\'idea.n.01\\', \\'idea.n.01\\', \\'idea.n.01\\', \\'whole.n.01\\']\"\\n7,levelheaded,6,\"[\\'healthy\\', \\'intelligent\\', \\'level-headed\\', \\'levelheaded\\', \\'sound\\', \\'healthy.s.04\\', \\'healthy.s.04\\']\"\\n21,sympathise,6,\"[\\'empathise\\', \\'empathize\\', \\'sympathise\\', \\'sympathize\\', \\'understand\\', \\'sympathize.v.02\\', \\'sympathize.v.02\\']\"\\n10,debate,6,\"[\\'consider\\', \\'debate\\', \\'deliberate\\', \\'moot\\', \\'turn_over\\', \\'consider.v.05\\']\"\\n29,progressive_tense,6,\"[\\'continuous_tense\\', \\'imperfect\\', \\'imperfect_tense\\', \\'progressive\\', \\'progressive_tense\\', \\'progressive.n.01\\', \\'progressive.n.01\\', \\'progressive.n.01\\', \\'progressive.n.01\\', \\'progressive.n.01\\']\"\\n2,politics,6,\"[\\'political_relation\\', \\'politics\\', \\'politics.n.01\\', \\'politics.n.01\\']\"\\n1,juncture,6,\"[\\'articulation\\', \\'join\\', \\'joint\\', \\'junction\\', \\'juncture\\', \\'articulation.n.02\\']\"\\n52,trusty,6,\"[\\'trustworthy\\', \\'trusty\\', \\'trustworthy.a.01\\']\"\\n87,committedness,6,\"[\\'commitment\\', \\'committedness\\', \\'committedness.n.01\\', \\'committedness.n.01\\']\"\\n6,bravery,5,\"[\\'braveness\\', \\'bravery\\', \\'courage\\', \\'courageousness\\', \\'courage.n.01\\', \\'courage.n.01\\', \\'courage.n.01\\', \\'courage.n.01\\']\"\\n44,trying,5,\"[\\'nerve-racking\\', \\'nerve-wracking\\', \\'stressful\\', \\'trying\\', \\'nerve-racking.s.01\\', \\'nerve-racking.s.01\\', \\'nerve-racking.s.01\\']\"\\n51,Brobdingnagian,5,\"[\\'Brobdingnagian\\', \\'huge\\', \\'immense\\', \\'vast\\', \\'huge.s.01\\', \\'huge.s.01\\', \\'huge.s.01\\']\"\\n0,park,5,\"[\\'common\\', \\'commons\\', \\'green\\', \\'park\\', \\'parkland\\', \\'park.n.02\\', \\'park.n.02\\', \\'park.n.01\\']\"\\n38,workings,5,\"[\\'well\\', \\'working\\', \\'workings\\', \\'well.n.01\\', \\'working.n.01\\']\"\\n34,value-system,5,\"[\\'ethic\\', \\'moral_principle\\', \\'value-system\\', \\'value_orientation\\', \\'ethic.n.01\\', \\'ethic.n.01\\', \\'ethic.n.01\\', \\'ethic.n.01\\']\"\\n31,ability,5,\"[\\'ability\\', \\'quality\\', \\'ability.n.01\\', \\'quality.n.01\\', \\'quality.n.01\\']\"\\n25,course,5,\"[\\'class\\', \\'course\\', \\'course_of_instruction\\', \\'course_of_study\\', \\'course.n.01\\', \\'course.n.01\\']\"\\n24,give,5,\"[\\'commit\\', \\'consecrate\\', \\'dedicate\\', \\'devote\\', \\'give\\', \\'give.v.18\\', \\'give.v.18\\', \\'give.v.18\\']\"\\n70,mature,4,\"[\\'grow\\', \\'maturate\\', \\'mature\\', \\'mature.v.01\\', \\'mature.v.01\\']\"\\n81,strong,4,\"[\\'strong\\', \\'strong.a.01\\']\"\\n92,fictitious_character,4,\"[\\'character\\', \\'fictional_character\\', \\'fictitious_character\\', \\'fictional_character.n.01\\', \\'fictional_character.n.01\\', \\'fictional_character.n.01\\']\"\\n90,sooner,4,\"[\\'preferably\\', \\'rather\\', \\'sooner\\', \\'preferably.r.01\\']\"\\n98,dedication,4,\"[\\'dedication\\', \\'dedication.n.01\\']\"\\n73,negotiator,4,\"[\\'negotiant\\', \\'negotiator\\', \\'treater\\', \\'negotiator.n.01\\', \\'negotiator.n.01\\', \\'negotiator.n.01\\']\"\\n58,must,4,\"[\\'must\\', \\'must.n.01\\']\"\\n71,different,4,\"[\\'different\\', \\'different.a.01\\']\"\\n55,noesis,4,\"[\\'cognition\\', \\'knowledge\\', \\'noesis\\', \\'cognition.n.01\\', \\'cognition.n.01\\', \\'cognition.n.01\\']\"\\n14,hanker,4,\"[\\'hanker\\', \\'long\\', \\'yearn\\', \\'hanker.v.01\\', \\'hanker.v.01\\', \\'hanker.v.01\\']\"\\n50,ulterior,4,\"[\\'subterranean\\', \\'subterraneous\\', \\'ulterior\\', \\'subterranean.s.02\\']\"\\n19,fundamental_law,4,\"[\\'constitution\\', \\'fundamental_law\\', \\'organic_law\\', \\'fundamental_law.n.01\\', \\'fundamental_law.n.01\\', \\'fundamental_law.n.01\\']\"\\n39,diplomatic_negotiations,3,\"[\\'diplomacy\\', \\'diplomatic_negotiations\\', \\'diplomacy.n.01\\', \\'diplomacy.n.01\\']\"\\n95,problem,3,\"[\\'job\\', \\'problem\\', \\'problem.n.01\\']\"\\n96,time,3,\"[\\'clip\\', \\'time\\', \\'time.n.01\\']\"\\n85,relations,3,\"[\\'dealings\\', \\'relations\\', \\'relations.n.01\\']\"\\n56,approachable,3,\"[\\'accessible\\', \\'approachable\\', \\'accessible.s.02\\']\"\\n4,entreaty,3,\"[\\'appeal\\', \\'entreaty\\', \\'prayer\\', \\'entreaty.n.01\\', \\'entreaty.n.01\\', \\'entreaty.n.01\\']\"\\n79,need,3,\"[\\'motivation\\', \\'motive\\', \\'need\\', \\'motivation.n.01\\', \\'motivation.n.01\\', \\'motivation.n.01\\']\"\\n100,service,3,\"[\\'serve\\', \\'service\\', \\'serve.n.01\\']\"\\n26,office,3,\"[\\'business_office\\', \\'office\\', \\'office.n.01\\', \\'office.n.01\\']\"\\n74,passionateness,3,\"[\\'passion\\', \\'passionateness\\', \\'passion.n.01\\', \\'passion.n.01\\']\"\\n72,caring,3,\"[\\'caring\\', \\'lovingness\\', \\'lovingness.n.01\\', \\'lovingness.n.01\\']\"\\n37,selfless,3,\"[\\'altruistic\\', \\'selfless\\', \\'altruistic.a.01\\', \\'altruistic.a.01\\']\"\\n54,stay,3,\"[\\'action\\', \\'stay\\', \\'action.n.01\\', \\'stay.n.01\\']\"\\n28,crucial,3,\"[\\'crucial\\', \\'important\\', \\'crucial.a.01\\']\"\\n61,honorable,3,\"[\\'honest\\', \\'honorable\\', \\'honest.a.01\\', \\'honest.a.01\\']\"\\n66,peaceable,3,\"[\\'peaceable\\', \\'peaceful\\', \\'peaceful.a.01\\']\"\\n48,humbleness,3,\"[\\'humbleness\\', \\'humility\\', \\'humility.n.01\\']\"\\n65,genuine,3,\"[\\'echt\\', \\'genuine\\', \\'genuine.a.01\\', \\'genuine.a.01\\']\"\\n64,management,3,\"[\\'direction\\', \\'management\\', \\'management.n.01\\']\"\\n68,hard,3,\"[\\'difficult\\', \\'hard\\', \\'difficult.a.01\\', \\'difficult.a.01\\']\"\\n13,U,2,\"[\\'U\\', \\'uracil\\', \\'uracil.n.01\\', \\'uracil.n.01\\', \\'uracil.n.01\\']\"\\n93,exceptionally,2,\"[\\'exceptionally\\', \\'exceptionally.r.01\\']\"\\n109,politically,2,\"[\\'politically\\', \\'politically.r.01\\']\"\\n108,political,2,\"[\\'political\\', \\'political.a.01\\']\"\\n12,county,2,\"[\\'county\\', \\'county.n.01\\']\"\\n103,think,2,\"[\\'think\\', \\'think.n.01\\']\"\\n107,able,2,\"[\\'able\\', \\'able.a.01\\']\"\\n99,point,2,\"[\\'orient\\', \\'point\\', \\'orient.v.01\\']\"\\n101,together,2,\"[\\'together\\', \\'together.s.01\\']\"\\n102,equality,2,\"[\\'equality\\', \\'equality.n.01\\']\"\\n104,measure_up,2,\"[\\'measure_up\\', \\'qualify\\', \\'qualify.v.01\\', \\'qualify.v.01\\', \\'qualify.v.01\\']\"\\n91,capable,2,\"[\\'capable\\', \\'capable.a.01\\']\"\\n105,confident,2,\"[\\'confident\\', \\'confident.a.01\\']\"\\n110,background,2,\"[\\'background\\', \\'background.n.01\\']\"\\n89,humble,2,\"[\\'humble\\', \\'humble.v.01\\']\"\\n78,agreeable,2,\"[\\'agreeable\\', \\'agreeable.a.01\\']\"\\n57,logical,2,\"[\\'logical\\', \\'logical.a.01\\']\"\\n47,polite,2,\"[\\'polite\\', \\'polite.a.01\\']\"\\n40,state_of_affairs,2,\"[\\'situation\\', \\'state_of_affairs\\', \\'situation.n.01\\', \\'situation.n.01\\', \\'situation.n.01\\']\"\\n67,Born,2,\"[\\'Born\\', \\'Max_Born\\', \\'born.n.01\\', \\'born.n.01\\', \\'born.n.01\\']\"\\n69,sociology,2,\"[\\'sociology\\', \\'sociology.n.01\\']\"\\n20,term,2,\"[\\'term\\', \\'term.n.01\\']\"\\n77,control,2,\"[\\'command\\', \\'control\\', \\'control.v.01\\']\"\\n80,friendly,2,\"[\\'friendly\\', \\'friendly.n.01\\']\"\\n82,wise,2,\"[\\'wise\\', \\'wise.n.01\\']\"\\n84,proud,2,\"[\\'proud\\', \\'proud.a.01\\']\"\\n16,promise,2,\"[\\'bid\\', \\'bidding\\', \\'command\\', \\'dictation\\', \\'promise\\', \\'command.n.01\\', \\'promise.n.01\\', \\'promise.n.01\\']\"\\n15,underprivileged,2,\"[\\'underprivileged\\', \\'underprivileged.a.01\\']\"\\n88,BASIC,1,\"[\\'BASIC\\', \\'basic.n.01\\', \\'basic.n.01\\']\"\\n106,sophisticate,1,\"[\\'sophisticate\\', \\'sophisticate.v.01\\']\"\\n60,Nice,1,\"[\\'Nice\\', \\'nice.n.01\\', \\'nice.n.01\\']\"\\n94,International,1,\"[\\'International\\', \\'international.n.01\\', \\'international.n.01\\']\"\\n83,system,1,\"[\\'system\\', \\'system.n.01\\', \\'system.n.01\\']\"\\n'"
            ]
          },
          "metadata": {},
          "execution_count": 29
        }
      ]
    },
    {
      "cell_type": "code",
      "metadata": {
        "colab": {
          "base_uri": "https://localhost:8080/"
        },
        "id": "VuJeu5v4EhEK",
        "outputId": "97fd8b94-9c72-4774-ab48-4519f0bcab5f"
      },
      "source": [
        "print(df.iloc[0:10][\"Clusters\"])"
      ],
      "execution_count": null,
      "outputs": [
        {
          "output_type": "stream",
          "name": "stdout",
          "text": [
            "11    [business, job, leadership, leading, line, lin...\n",
            "41    [batch, deal, flock, good_deal, great_deal, ha...\n",
            "27    [honestness, honesty, kindness, morality, qual...\n",
            "35    [body_politic, commonwealth, country, land, na...\n",
            "49    [accomplishment, acquirement, acquisition, att...\n",
            "22    [integrity, unity, wholeness, integrity.n.01, ...\n",
            "59    [smart, smarting, smartness, smart.n.01, smart...\n",
            "23    [individual, mortal, person, somebody, someone...\n",
            "46    [apprehension, discernment, knowing, savvy, se...\n",
            "43    [conclusion, decision, determination, parti_pr...\n",
            "Name: Clusters, dtype: object\n"
          ]
        }
      ]
    },
    {
      "cell_type": "code",
      "metadata": {
        "id": "pirdsySkUEj9",
        "colab": {
          "base_uri": "https://localhost:8080/"
        },
        "outputId": "3a538094-3ad7-4f88-ac54-1dbdaec3fe58"
      },
      "source": [
        "evaluation(list(df[\"Word\"][1:15]),['confident', 'determination', 'diplomacy', 'honesty',\n",
        "       'intelligence', 'leadership', 'vision',\n",
        "       'political','skills', 'diversity', 'humble','knowledge'])"
      ],
      "execution_count": null,
      "outputs": [
        {
          "output_type": "execute_result",
          "data": {
            "text/plain": [
              "0.5445152070152071"
            ]
          },
          "metadata": {},
          "execution_count": 31
        }
      ]
    },
    {
      "cell_type": "code",
      "metadata": {
        "id": "Scpyoei_IJVq",
        "colab": {
          "base_uri": "https://localhost:8080/"
        },
        "outputId": "a27e5084-bc34-4ed7-f51a-ddbf745ee8a9"
      },
      "source": [
        "list(df[\"Word\"][1:15])"
      ],
      "execution_count": null,
      "outputs": [
        {
          "output_type": "execute_result",
          "data": {
            "text/plain": [
              "['plenty',\n",
              " 'quality',\n",
              " 'body_politic',\n",
              " 'intelligence',\n",
              " 'wholeness',\n",
              " 'smartness',\n",
              " 'somebody',\n",
              " 'apprehension',\n",
              " 'decision',\n",
              " 'resolution',\n",
              " 'equanimity',\n",
              " 'run',\n",
              " 'grouping',\n",
              " 'tending']"
            ]
          },
          "metadata": {},
          "execution_count": 32
        }
      ]
    },
    {
      "cell_type": "code",
      "metadata": {
        "colab": {
          "base_uri": "https://localhost:8080/",
          "height": 611
        },
        "id": "Vnpz2dvQ3Xtg",
        "outputId": "b4f466da-b0c2-436b-d329-d1b681d3da88"
      },
      "source": [
        "plt.figure(figsize=(25,10))\n",
        "plt.bar(df[\"Word\"][:20] ,df[\"Frequency\"][:20] )\n",
        "plt.xlabel(\"Words\")\n",
        "plt.ylabel(\"Cluster Frequency\")"
      ],
      "execution_count": null,
      "outputs": [
        {
          "output_type": "execute_result",
          "data": {
            "text/plain": [
              "Text(0, 0.5, 'Cluster Frequency')"
            ]
          },
          "metadata": {},
          "execution_count": 28
        },
        {
          "output_type": "display_data",
          "data": {
            "image/png": "[encoded data removed]",
            "text/plain": [
              "<Figure size 1800x720 with 1 Axes>"
            ]
          },
          "metadata": {
            "needs_background": "light"
          }
        }
      ]
    },
    {
      "cell_type": "code",
      "metadata": {
        "id": "5ZdJxq_-bPKU"
      },
      "source": [
        "vocab_similar=list(set(vocab_similar))"
      ],
      "execution_count": null,
      "outputs": []
    },
    {
      "cell_type": "code",
      "metadata": {
        "id": "nx6P916svrNb",
        "colab": {
          "base_uri": "https://localhost:8080/"
        },
        "outputId": "acc08e6a-b4ff-4af6-c8a5-fdac1443eb37"
      },
      "source": [
        "wn.wup_similarity(wn.synsets(vocab_similar[0])[0],wn.synsets(vocab_similar[10])[0])"
      ],
      "execution_count": null,
      "outputs": [
        {
          "output_type": "execute_result",
          "data": {
            "text/plain": [
              "0.125"
            ]
          },
          "metadata": {},
          "execution_count": 34
        }
      ]
    },
    {
      "cell_type": "code",
      "metadata": {
        "id": "APw6jjXBr0F5"
      },
      "source": [
        "distance_matrix=np.zeros((len(vocab_similar),len(vocab_similar)))"
      ],
      "execution_count": null,
      "outputs": []
    },
    {
      "cell_type": "code",
      "metadata": {
        "id": "E0Bo4VUHdR6d"
      },
      "source": [
        "network_words=nx.Graph()\n",
        "for i in range(len(vocab_similar)):\n",
        "  for j in range(0,i):\n",
        "    try:\n",
        "      s1=wn.synsets(vocab_similar[i].lower())[0]\n",
        "      s2=wn.synsets(vocab_similar[j].lower())[0]\n",
        "      if wn.wup_similarity(s1,s1)>0.9:\n",
        "        network_words.add_edge(vocab_similar[i],vocab_similar[j])\n",
        "        #network_words[vocab_similar[i]][vocab_similar[j]]['weight'] =1\n",
        "    except:\n",
        "      pass\n",
        "      #network_words[vocab_similar[i]][vocab_similar[j]]['weight'] = 0.0"
      ],
      "execution_count": null,
      "outputs": []
    },
    {
      "cell_type": "code",
      "metadata": {
        "id": "UJg9RaBpsOQU"
      },
      "source": [
        "degcent=sorted([i for i in nx.degree_centrality(network_words).values() ],reverse=True)\n",
        "deg_cent=nx.degree_centrality(network_words)"
      ],
      "execution_count": null,
      "outputs": []
    },
    {
      "cell_type": "code",
      "metadata": {
        "colab": {
          "base_uri": "https://localhost:8080/"
        },
        "id": "OJ-7J-pgsSjZ",
        "outputId": "8ec5ce71-9018-42f0-e4fe-bebafb4655a5"
      },
      "source": [
        "a=0\n",
        "words=[]\n",
        "for w in sorted(deg_cent, key=deg_cent.get, reverse=True):\n",
        "    print(w)\n",
        "    a+=1\n",
        "    words.append(w)\n",
        "    if a==15:\n",
        "      break"
      ],
      "execution_count": null,
      "outputs": [
        {
          "output_type": "stream",
          "name": "stdout",
          "text": [
            "attainment\n",
            "quite_a_little\n",
            "think\n",
            "carry_through\n",
            "knowledge\n",
            "qualify\n",
            "sense\n",
            "confident\n",
            "run\n",
            "work\n",
            "need\n",
            "preferably\n",
            "apprehension\n",
            "come\n",
            "time\n"
          ]
        }
      ]
    },
    {
      "cell_type": "code",
      "metadata": {
        "colab": {
          "base_uri": "https://localhost:8080/"
        },
        "id": "uMlV-uCIHQr5",
        "outputId": "0b7cdb4d-698b-4a83-81bf-be2b7227676f"
      },
      "source": [
        "evaluation(words,['confident', 'determination', 'diplomacy', 'honesty',\n",
        "       'intelligence', 'leadership', 'vision',\n",
        "       'political','skills', 'diversity', 'humble','knowledge'])"
      ],
      "execution_count": null,
      "outputs": [
        {
          "output_type": "execute_result",
          "data": {
            "text/plain": [
              "0.5293610093610093"
            ]
          },
          "metadata": {},
          "execution_count": 39
        }
      ]
    },
    {
      "cell_type": "code",
      "metadata": {
        "id": "HUt0Wu5PfqNl"
      },
      "source": [
        "#plt.figure(figsize=(30,30))\n",
        "#pos=nx.kamada_kawai_layout(network_words)\n",
        "#nx.draw_networkx(network_words);"
      ],
      "execution_count": null,
      "outputs": []
    },
    {
      "cell_type": "code",
      "metadata": {
        "id": "YcVLmO2dhAH3"
      },
      "source": [
        "pg=nx.pagerank(network_words,weight=\"weight\")\n",
        "words=sorted(pg.items(),key=operator.itemgetter(1),reverse=True)[0:15]"
      ],
      "execution_count": null,
      "outputs": []
    },
    {
      "cell_type": "code",
      "metadata": {
        "id": "E8fj-_UeHoZH"
      },
      "source": [
        "words1=[]\n",
        "for i in words:\n",
        "  words1.append(i[0])"
      ],
      "execution_count": null,
      "outputs": []
    },
    {
      "cell_type": "code",
      "metadata": {
        "colab": {
          "base_uri": "https://localhost:8080/"
        },
        "id": "e1TSoC4cHxSn",
        "outputId": "eb5eb35e-ff49-4b2e-fd94-2f6759bd1532"
      },
      "source": [
        "words1"
      ],
      "execution_count": null,
      "outputs": [
        {
          "output_type": "execute_result",
          "data": {
            "text/plain": [
              "['attainment',\n",
              " 'quite_a_little',\n",
              " 'think',\n",
              " 'carry_through',\n",
              " 'knowledge',\n",
              " 'qualify',\n",
              " 'sense',\n",
              " 'confident',\n",
              " 'run',\n",
              " 'work',\n",
              " 'need',\n",
              " 'preferably',\n",
              " 'apprehension',\n",
              " 'come',\n",
              " 'time']"
            ]
          },
          "metadata": {},
          "execution_count": 43
        }
      ]
    },
    {
      "cell_type": "code",
      "metadata": {
        "colab": {
          "base_uri": "https://localhost:8080/"
        },
        "id": "cKp9tCkuH0cq",
        "outputId": "5ea27f13-f434-497c-8d7b-18ae97b6829f"
      },
      "source": [
        "evaluation(words1,['confident', 'determination', 'diplomacy', 'honesty',\n",
        "       'intelligence', 'leadership', 'vision',\n",
        "       'political','skills', 'diversity', 'humble','knowledge'])"
      ],
      "execution_count": null,
      "outputs": [
        {
          "output_type": "execute_result",
          "data": {
            "text/plain": [
              "0.5293610093610093"
            ]
          },
          "metadata": {},
          "execution_count": 44
        }
      ]
    },
    {
      "cell_type": "code",
      "metadata": {
        "id": "As4M5EPMpRqB"
      },
      "source": [
        "for i in range(len(vocab_similar)):\n",
        "  for j in range(i+1):\n",
        "    if len(wn.synsets(vocab_similar[i]))!=0 and len(wn.synsets(vocab_similar[j]))!=0: \n",
        "      if i==j:\n",
        "        distance_matrix[i][j]=wn.wup_similarity(wn.synsets(vocab_similar[i])[0],wn.synsets(vocab_similar[j])[0])\n",
        "      else:\n",
        "        distance_matrix[i][j]=wn.wup_similarity(wn.synsets(vocab_similar[i])[0],wn.synsets(vocab_similar[j])[0])\n",
        "        distance_matrix[j][i]=wn.wup_similarity(wn.synsets(vocab_similar[i])[0],wn.synsets(vocab_similar[j])[0])"
      ],
      "execution_count": null,
      "outputs": []
    },
    {
      "cell_type": "code",
      "metadata": {
        "id": "b3gQ1IXxqaKn"
      },
      "source": [
        "distance_matrix=1-np.nan_to_num(distance_matrix)"
      ],
      "execution_count": null,
      "outputs": []
    },
    {
      "cell_type": "code",
      "metadata": {
        "colab": {
          "base_uri": "https://localhost:8080/"
        },
        "id": "V20NFJS1zUJY",
        "outputId": "c2bebce1-75a4-4acc-f9b2-c078f96c0b18"
      },
      "source": [
        "from sklearn.cluster import AgglomerativeClustering\n",
        "cluster = AgglomerativeClustering(affinity='precomputed', distance_threshold=0.0,n_clusters=None,linkage='complete',compute_full_tree=True)\n",
        "cluster.fit(1-np.nan_to_num(distance_matrix))"
      ],
      "execution_count": null,
      "outputs": [
        {
          "output_type": "execute_result",
          "data": {
            "text/plain": [
              "AgglomerativeClustering(affinity='precomputed', compute_full_tree=True,\n",
              "                        connectivity=None, distance_threshold=0.0,\n",
              "                        linkage='complete', memory=None, n_clusters=None)"
            ]
          },
          "metadata": {},
          "execution_count": 57
        }
      ]
    },
    {
      "cell_type": "code",
      "metadata": {
        "colab": {
          "base_uri": "https://localhost:8080/"
        },
        "id": "JLi7BqcWY9qS",
        "outputId": "328c7128-d211-410c-ff13-04c1b1043fd1"
      },
      "source": [
        "acluster=[]\n",
        "for i in range(len(cluster.labels_)):\n",
        "  if cluster.labels_[i] in list(range(15)): \n",
        "    print(cluster.labels_[i],vocab_similar[i]) #cluster.labels_[i],\n",
        "    acluster.append(vocab_similar[i])"
      ],
      "execution_count": null,
      "outputs": [
        {
          "output_type": "stream",
          "name": "stdout",
          "text": [
            "12 body_politic\n",
            "11 management\n",
            "13 political\n",
            "10 morality.\n",
            "9 retard\n",
            "14 goal\n",
            "7 committedness\n",
            "8 international\n",
            "6 trying\n",
            "4 trusty\n",
            "5 thought\n",
            "2 controlling\n",
            "3 politically\n",
            "1 sooner\n",
            "0 background\n"
          ]
        }
      ]
    },
    {
      "cell_type": "code",
      "metadata": {
        "id": "IbMRG69u21Rv"
      },
      "source": [
        ""
      ],
      "execution_count": null,
      "outputs": []
    },
    {
      "cell_type": "code",
      "metadata": {
        "colab": {
          "base_uri": "https://localhost:8080/"
        },
        "id": "-21BPxeJie5j",
        "outputId": "0e16a17c-4e13-4c42-c461-dc138bdea0ad"
      },
      "source": [
        "acluster"
      ],
      "execution_count": null,
      "outputs": [
        {
          "output_type": "execute_result",
          "data": {
            "text/plain": [
              "['body_politic',\n",
              " 'management',\n",
              " 'political',\n",
              " 'morality.',\n",
              " 'retard',\n",
              " 'goal',\n",
              " 'committedness',\n",
              " 'international',\n",
              " 'trying',\n",
              " 'trusty',\n",
              " 'thought',\n",
              " 'controlling',\n",
              " 'politically',\n",
              " 'sooner',\n",
              " 'background']"
            ]
          },
          "metadata": {},
          "execution_count": 59
        }
      ]
    },
    {
      "cell_type": "code",
      "metadata": {
        "colab": {
          "base_uri": "https://localhost:8080/"
        },
        "id": "bj0C5jTGM0-o",
        "outputId": "13fd2f71-7ec5-4e5e-8ce3-d083b4742353"
      },
      "source": [
        "evaluation(acluster,['confident', 'determination', 'diplomacy', 'honesty',\n",
        "       'intelligence', 'leadership', 'vision',\n",
        "       'political','skills', 'diversity', 'humble','knowledge'])"
      ],
      "execution_count": null,
      "outputs": [
        {
          "output_type": "execute_result",
          "data": {
            "text/plain": [
              "0.4211810411810412"
            ]
          },
          "metadata": {},
          "execution_count": 60
        }
      ]
    },
    {
      "cell_type": "code",
      "metadata": {
        "id": "sQMF1QTISWEg",
        "colab": {
          "base_uri": "https://localhost:8080/"
        },
        "outputId": "3199fc3e-4f9e-4a03-89b2-9c2a03438358"
      },
      "source": [
        "for i in range(len(cluster.labels_)):\n",
        "  if cluster.labels_[i]==9:\n",
        "    print(cluster.labels_[i],vocab_similar[i])"
      ],
      "execution_count": null,
      "outputs": [
        {
          "output_type": "stream",
          "name": "stdout",
          "text": [
            "9 retard\n"
          ]
        }
      ]
    },
    {
      "cell_type": "code",
      "metadata": {
        "id": "Xt_sGpd33f8_"
      },
      "source": [
        "from scipy.cluster.hierarchy import dendrogram\n",
        "import  matplotlib.pyplot as plt\n",
        "def plot_dendrogram(model, **kwargs):\n",
        "    # Create linkage matrix and then plot the dendrogram\n",
        "\n",
        "    # create the counts of samples under each node\n",
        "    counts = np.zeros(model.children_.shape[0])\n",
        "    n_samples = len(model.labels_)\n",
        "    for i, merge in enumerate(model.children_):\n",
        "        current_count = 0\n",
        "        for child_idx in merge:\n",
        "            if child_idx < n_samples:\n",
        "                current_count += 1  # leaf node\n",
        "            else:\n",
        "                current_count += counts[child_idx - n_samples]\n",
        "        counts[i] = current_count\n",
        "\n",
        "    linkage_matrix = np.column_stack(\n",
        "        [model.children_, model.distances_, counts]\n",
        "    ).astype(float)\n",
        "\n",
        "    # Plot the corresponding dendrogram\n",
        "    plt.figure(figsize=(30,10))\n",
        "    dendrogram(linkage_matrix,**kwargs)\n",
        "\n"
      ],
      "execution_count": null,
      "outputs": []
    },
    {
      "cell_type": "code",
      "metadata": {
        "id": "J-7rQ3wl6asG",
        "colab": {
          "base_uri": "https://localhost:8080/",
          "height": 491
        },
        "outputId": "7f5208c3-75cb-4794-e7f8-2dcf81afa8ef"
      },
      "source": [
        "plot_dendrogram(cluster, truncate_mode=\"level\")"
      ],
      "execution_count": null,
      "outputs": [
        {
          "output_type": "display_data",
          "data": {
            "image/png": "[encoded data removed]",
            "text/plain": [
              "<Figure size 2160x720 with 1 Axes>"
            ]
          },
          "metadata": {
            "needs_background": "light"
          }
        }
      ]
    },
    {
      "cell_type": "code",
      "metadata": {
        "colab": {
          "base_uri": "https://localhost:8080/"
        },
        "id": "rwpVvfAHUXSW",
        "outputId": "bd986b42-fb97-424b-9138-84c2173ee2f8"
      },
      "source": [
        "cluster.labels_"
      ],
      "execution_count": null,
      "outputs": [
        {
          "output_type": "execute_result",
          "data": {
            "text/plain": [
              "array([348, 347, 241, 345, 344, 343, 342, 341, 213, 339, 338, 346, 336,\n",
              "       287, 334, 333, 250, 331, 208, 198, 328, 327, 326, 325, 324, 323,\n",
              "       322, 321, 320, 319, 318, 317, 192, 315, 160, 214, 312, 311, 310,\n",
              "       309, 257, 307, 306, 305, 304, 303, 302, 301, 300, 299, 298, 297,\n",
              "       296, 158, 340, 293, 277, 291, 290, 295, 288, 173, 286, 285, 284,\n",
              "       283, 282, 171, 280, 279, 278, 138, 276, 275, 194, 337, 335, 243,\n",
              "       274, 179, 223, 211, 141, 139, 273, 222, 292, 193, 178, 169, 212,\n",
              "       209, 221, 281, 332, 272, 271, 187, 330, 220, 207, 168, 329, 162,\n",
              "       199, 140, 316, 203, 264, 167, 204, 205, 137, 242, 224, 216, 195,\n",
              "       136, 256, 150, 184,  83, 237, 270, 166,  69, 196, 135, 219, 267,\n",
              "       210, 234, 231, 197, 269, 260, 244, 246, 245, 120, 161, 265, 159,\n",
              "       202, 268, 104, 188, 239, 313, 175, 238, 240, 235, 157, 121, 103,\n",
              "       174, 133, 200, 119, 233, 314, 206, 102, 218,  99, 156, 263, 217,\n",
              "       145, 261, 180, 101, 266, 132, 165, 255, 164, 118, 163, 253, 201,\n",
              "       251, 177, 215,  81,  98, 176,  80,  97, 249, 172, 100, 131, 247,\n",
              "       232, 308, 122, 236, 106, 155, 227, 189,  60, 229,  78, 134,  67,\n",
              "       108,  48,  65,  66,  50, 259,  89,  77, 170,  96, 107, 109, 183,\n",
              "       117,  58, 105,  38, 116, 154,  87, 182, 110, 153, 262, 185, 181,\n",
              "        49,  84, 191, 190, 115,  76, 186,  85,  90, 130, 129,  91,  57,\n",
              "        82,  40,  68,  44,  51,  33, 124, 294,  64, 252, 152, 258,  79,\n",
              "       128, 230, 151, 228, 147, 146, 149,  74,  39, 148, 127,  72, 114,\n",
              "        92,  28, 142,  63, 289, 113,  94, 248,  88, 143, 144, 226,  95,\n",
              "       225,  71,  35,  43, 112, 111,  86,  31,  47, 254,  75,  73,  21,\n",
              "        24,  54,  52,  56,  55,  19,  23, 126,  70, 125,  53,  36,  62,\n",
              "        34, 123,  26,  27,  37,  45,  16,  93,  25,  61,  46,  12,  41,\n",
              "        22,  11,  17,  32,  59,  42,  29,  15,  20,  13,  10,  30,   9,\n",
              "        14,  18,   7,   8,   6,   4,   5,   2,   3,   1,   0])"
            ]
          },
          "metadata": {},
          "execution_count": 64
        }
      ]
    },
    {
      "cell_type": "code",
      "metadata": {
        "id": "aCKjmiUaf0Wt",
        "colab": {
          "base_uri": "https://localhost:8080/"
        },
        "outputId": "6dd51660-df28-418b-fb8d-4fe4915f72cb"
      },
      "source": [
        "cluster_21 = AgglomerativeClustering(affinity='precomputed', distance_threshold=None,n_clusters=21,linkage='complete',compute_full_tree=True)\n",
        "cluster_21.fit(1-np.nan_to_num(distance_matrix))"
      ],
      "execution_count": null,
      "outputs": [
        {
          "output_type": "execute_result",
          "data": {
            "text/plain": [
              "AgglomerativeClustering(affinity='precomputed', compute_full_tree=True,\n",
              "                        connectivity=None, distance_threshold=None,\n",
              "                        linkage='complete', memory=None, n_clusters=21)"
            ]
          },
          "metadata": {},
          "execution_count": 98
        }
      ]
    },
    {
      "cell_type": "code",
      "metadata": {
        "colab": {
          "base_uri": "https://localhost:8080/"
        },
        "id": "fKsnS0VzUnkv",
        "outputId": "f798feef-5993-49a2-ab3a-72b079713424"
      },
      "source": [
        "for i in range(len(cluster_21.labels_)):\n",
        "  if cluster_21.labels_[i]==20:\n",
        "    print(vocab_similar[i])"
      ],
      "execution_count": null,
      "outputs": [
        {
          "output_type": "stream",
          "name": "stdout",
          "text": [
            "courageousness\n",
            "county\n",
            "prejudice\n",
            "important\n",
            "half-wit\n",
            "eloquent\n",
            "acquisition\n",
            "honest\n",
            "lovingness\n",
            "proud\n",
            "orient\n",
            "approachable\n"
          ]
        }
      ]
    },
    {
      "cell_type": "code",
      "metadata": {
        "colab": {
          "base_uri": "https://localhost:8080/"
        },
        "id": "JJzP1PYpUAPk",
        "outputId": "ce967cdf-05bd-4f36-d3a3-3d4c055c7918"
      },
      "source": [
        "from sklearn.cluster import AffinityPropagation\n",
        "from collections import Counter\n",
        "ap = AffinityPropagation(max_iter=1000)\n",
        "ap.fit(1-np.nan_to_num(distance_matrix))\n",
        "res = Counter(ap.labels_)\n",
        "res.most_common(10)"
      ],
      "execution_count": null,
      "outputs": [
        {
          "output_type": "execute_result",
          "data": {
            "text/plain": [
              "[(2, 41),\n",
              " (16, 37),\n",
              " (11, 33),\n",
              " (3, 27),\n",
              " (14, 26),\n",
              " (4, 24),\n",
              " (13, 24),\n",
              " (9, 18),\n",
              " (10, 18),\n",
              " (0, 17)]"
            ]
          },
          "metadata": {},
          "execution_count": 67
        }
      ]
    },
    {
      "cell_type": "code",
      "metadata": {
        "colab": {
          "base_uri": "https://localhost:8080/"
        },
        "id": "rE9b-O9-7sQL",
        "outputId": "ccc21040-3260-4d3f-a313-bb5fbd748a09"
      },
      "source": [
        "ap_cluster=[]\n",
        "for i in ap.cluster_centers_indices_:\n",
        "  print(vocab_similar[i])\n",
        "  ap_cluster.append(vocab_similar[i])"
      ],
      "execution_count": null,
      "outputs": [
        {
          "output_type": "stream",
          "name": "stdout",
          "text": [
            "turn_over\n",
            "class\n",
            "acquisition\n",
            "logical\n",
            "direction\n",
            "silver\n",
            "passel\n",
            "resolution\n",
            "friendly\n",
            "passionateness\n",
            "acquirement\n",
            "decisiveness\n",
            "oriented\n",
            "sight\n",
            "leader\n",
            "carry_through\n",
            "morality.\n",
            "trying\n"
          ]
        }
      ]
    },
    {
      "cell_type": "code",
      "metadata": {
        "colab": {
          "base_uri": "https://localhost:8080/"
        },
        "id": "WPORWNb4N4f6",
        "outputId": "0e7125a2-c003-458d-a4f5-63760dd1582e"
      },
      "source": [
        "evaluation(ap_cluster,['confident', 'determination', 'diplomacy', 'honesty',\n",
        "       'intelligence', 'leadership', 'vision',\n",
        "       'political','skills', 'diversity', 'humble','knowledge'])"
      ],
      "execution_count": null,
      "outputs": [
        {
          "output_type": "execute_result",
          "data": {
            "text/plain": [
              "0.3881636881636882"
            ]
          },
          "metadata": {},
          "execution_count": 69
        }
      ]
    },
    {
      "cell_type": "code",
      "metadata": {
        "id": "OPpYzlK4V2nP",
        "colab": {
          "base_uri": "https://localhost:8080/"
        },
        "outputId": "26434336-9a0d-4d5a-fcdf-4f6b794b8033"
      },
      "source": [
        "ap.labels_"
      ],
      "execution_count": null,
      "outputs": [
        {
          "output_type": "execute_result",
          "data": {
            "text/plain": [
              "array([ 2, 13, 11, 10,  0,  1,  7,  8,  2,  0, 11,  3,  8, 10,  2,  0,  4,\n",
              "        0,  0,  0, 10,  0,  5,  1,  3,  9,  0, 15, 15,  7,  0,  8,  1,  2,\n",
              "        2,  8, 13,  0,  9, 10,  5,  5,  7,  2,  7,  1,  8,  4,  0, 10,  0,\n",
              "        8,  3,  8,  0,  8,  0, 11, 12,  2, 12,  2,  1,  3,  0, 10, 10,  8,\n",
              "        8,  1,  3, 11,  1,  8,  0,  1,  0,  4,  7,  7,  5, 13,  5, 10,  2,\n",
              "        6,  7,  7,  3,  5,  2, 12,  2,  5,  4,  0,  8,  5,  5,  5,  5,  2,\n",
              "        2,  2,  6, 10,  2, 10, 15, 13, 12,  0,  8,  3, 12,  0,  0,  3, 12,\n",
              "        3,  4,  8,  5, 13, 15,  8,  3, 15,  3,  8,  0,  8,  2, 15, 15,  5,\n",
              "        6,  9,  7,  8,  5,  6,  5,  1,  6, 13,  6,  0,  7,  4, 11,  5,  8,\n",
              "        7,  6, 10,  8,  6,  8,  5, 12,  0,  9, 10,  3,  5,  2,  8,  6,  0,\n",
              "       12,  0,  0,  3,  0,  0,  2, 13, 11, 11,  0,  4, 15,  7,  0,  6,  1,\n",
              "        6, 15,  2,  5,  6, 15,  1,  2, 11,  8, 13, 15,  2,  7,  1,  1,  8,\n",
              "       15,  6,  6,  2, 12,  1,  5,  8,  2, 10,  1,  2, 12,  8, 12,  5,  3,\n",
              "       14,  8,  5, 10,  2,  1,  2, 14, 13,  2,  2, 13,  8,  2,  2, 13,  2,\n",
              "       10, 10,  1, 13,  2,  1, 13,  5, 13,  1,  8, 10,  9, 15,  1,  1,  7,\n",
              "        9, 13,  8, 14,  1,  2,  4,  7,  1,  7,  1,  1, 15, 14,  7, 12,  2,\n",
              "        5,  1,  1,  1,  8,  1,  7,  4,  8, 14,  8,  7,  1,  5, 15,  2,  1,\n",
              "       14,  7,  3, 11, 11,  1,  8, 11,  1,  8,  1, 11, 10,  4,  4,  5,  2,\n",
              "        8, 15, 14,  8,  5,  8, 10,  2,  4,  2,  2,  7,  4,  2, 15, 15, 15,\n",
              "        8, 15,  1,  8, 13,  1, 10,  1,  1, 14, 14, 10,  5,  1,  1,  2,  1,\n",
              "       15, 11, 14,  5, 13,  2, 15,  8,  7])"
            ]
          },
          "metadata": {},
          "execution_count": 46
        }
      ]
    },
    {
      "cell_type": "code",
      "metadata": {
        "id": "_eUQlkZol04R"
      },
      "source": [
        "filtered_clusters = [item[0] for item in res.most_common(5)]"
      ],
      "execution_count": null,
      "outputs": []
    },
    {
      "cell_type": "code",
      "metadata": {
        "colab": {
          "base_uri": "https://localhost:8080/"
        },
        "id": "8SbdzA8apoga",
        "outputId": "8bcf8206-6292-462c-857a-b21c69e22399"
      },
      "source": [
        "for i in filtered_clusters:\n",
        "  print(\"------------------cluster no.\",i,\"------------------\")\n",
        "  for j in range(len(ap.labels_)):\n",
        "    if i==ap.labels_[j]:\n",
        "      print(vocab_similar[j])"
      ],
      "execution_count": null,
      "outputs": [
        {
          "output_type": "stream",
          "name": "stdout",
          "text": [
            "------------------cluster no. 2 ------------------\n",
            "sociology\n",
            "thought\n",
            "idea\n",
            "experience\n",
            "value-system\n",
            "prejudices\n",
            "fictitious_character\n",
            "ideas\n",
            "sight\n",
            "attention\n",
            "fictional_character\n",
            "motivation\n",
            "understanding\n",
            "character\n",
            "savvy\n",
            "whole\n",
            "discernment\n",
            "motives\n",
            "conclusion\n",
            "goals\n",
            "skills\n",
            "preconception\n",
            "skill\n",
            "acquirement\n",
            "think\n",
            "sense\n",
            "prejudice\n",
            "bias\n",
            "point\n",
            "knowing\n",
            "value_orientation\n",
            "knowledge\n",
            "cognition\n",
            "ethic\n",
            "noesis\n",
            "moral_principle\n",
            "motive\n",
            "intelligence\n",
            "smarting\n",
            "smart\n",
            "goal\n",
            "smartness\n",
            "------------------cluster no. 1 ------------------\n",
            "maturate\n",
            "levelheadedness\n",
            "deliberate\n",
            "sure.\n",
            "others.\n",
            "trustworthiness.\n",
            "intelligence.\n",
            "inclusivity\n",
            "umm\n",
            "morality.\n",
            "important\n",
            "underprivileged\n",
            "hard\n",
            "crucial\n",
            "immense\n",
            "subterraneous\n",
            "silver-tongued\n",
            "trustworthy\n",
            "i'm\n",
            "intelligent\n",
            "u.s\n",
            "proud\n",
            "honesty.\n",
            "peaceable\n",
            "fluent\n",
            "genuine\n",
            "political\n",
            "exceptionally\n",
            "subterranean\n",
            "others\n",
            "stressful\n",
            "selfless\n",
            "nerve-racking\n",
            "polite\n",
            "eloquent\n",
            "Brobdingnagian\n",
            "honorable\n",
            "peaceful\n",
            "vast\n",
            "level-headed\n",
            "ability.\n",
            "------------------cluster no. 8 ------------------\n",
            "moot\n",
            "dealings\n",
            "time\n",
            "run\n",
            "leadership\n",
            "appeals\n",
            "accomplishment\n",
            "achievement\n",
            "deal\n",
            "entreaty\n",
            "work\n",
            "via_media\n",
            "course_of_instruction\n",
            "decisions\n",
            "determination\n",
            "making\n",
            "tally\n",
            "promises\n",
            "solving\n",
            "management\n",
            "course\n",
            "appeal\n",
            "juncture\n",
            "stay\n",
            "decision\n",
            "tending\n",
            "command\n",
            "teamwork\n",
            "care\n",
            "service\n",
            "action\n",
            "finding\n",
            "fashioning\n",
            "prayer\n",
            "devising\n",
            "promise\n",
            "serve\n",
            "job\n",
            "attainment\n",
            "acquisition\n",
            "compromise\n",
            "------------------cluster no. 0 ------------------\n",
            "healthy\n",
            "empathise\n",
            "well-read\n",
            "commit\n",
            "accessible\n",
            "preferably\n",
            "learned\n",
            "turn_over\n",
            "smooth-spoken\n",
            "logical\n",
            "echt\n",
            "together\n",
            "nerve-wracking\n",
            "able\n",
            "huge\n",
            "confident\n",
            "difficult\n",
            "approachable\n",
            "politically\n",
            "agreeable\n",
            "different\n",
            "strong\n",
            "levelheaded\n",
            "capable\n",
            "honest\n",
            "facile\n",
            "altruistic\n",
            "well-educated\n",
            "knowledgeable\n",
            "rather\n",
            "ulterior\n",
            "------------------cluster no. 5 ------------------\n",
            "morality\n",
            "calmness\n",
            "committedness\n",
            "bravery\n",
            "kindness\n",
            "background\n",
            "courageousness\n",
            "courage\n",
            "give\n",
            "commitment\n",
            "calm\n",
            "mass\n",
            "decisiveness\n",
            "good\n",
            "join\n",
            "dedication\n",
            "composure\n",
            "green\n",
            "equality\n",
            "willingness\n",
            "wise\n",
            "equanimity\n",
            "control\n",
            "honestness\n",
            "honesty\n",
            "sound\n",
            "aid\n",
            "humility\n",
            "braveness\n"
          ]
        }
      ]
    },
    {
      "cell_type": "code",
      "metadata": {
        "id": "4R-fdGQdptZ_"
      },
      "source": [
        "from scipy.cluster.hierarchy import ward, fcluster\n",
        "from scipy.cluster import hierarchy\n",
        "y=1-np.nan_to_num(distance_matrix)"
      ],
      "execution_count": null,
      "outputs": []
    },
    {
      "cell_type": "code",
      "metadata": {
        "id": "U8Q1-P2wAiKf"
      },
      "source": [
        "Z = ward(y)"
      ],
      "execution_count": null,
      "outputs": []
    },
    {
      "cell_type": "code",
      "metadata": {
        "id": "IQgqqXDoAtTe"
      },
      "source": [
        "fc=fcluster(Z, 0.0, criterion='distance')"
      ],
      "execution_count": null,
      "outputs": []
    },
    {
      "cell_type": "code",
      "metadata": {
        "colab": {
          "base_uri": "https://localhost:8080/"
        },
        "id": "iIu5utCsAy8U",
        "outputId": "b50e337b-ed2d-4d88-e123-649c9e8ca339"
      },
      "source": [
        "Z"
      ],
      "execution_count": null,
      "outputs": [
        {
          "output_type": "execute_result",
          "data": {
            "text/plain": [
              "array([[  2.        ,  16.        ,   0.        ,   2.        ],\n",
              "       [ 32.        , 349.        ,   0.        ,   3.        ],\n",
              "       [ 67.        , 350.        ,   0.        ,   4.        ],\n",
              "       ...,\n",
              "       [691.        , 692.        ,  22.76520316, 197.        ],\n",
              "       [687.        , 693.        ,  32.02832528, 152.        ],\n",
              "       [694.        , 695.        ,  54.2048631 , 349.        ]])"
            ]
          },
          "metadata": {},
          "execution_count": 73
        }
      ]
    },
    {
      "cell_type": "code",
      "metadata": {
        "colab": {
          "base_uri": "https://localhost:8080/"
        },
        "id": "fVQY6BkLClD-",
        "outputId": "4c24b1af-65f2-4ff6-c67e-12ed060cd6af"
      },
      "source": [
        "fc"
      ],
      "execution_count": null,
      "outputs": [
        {
          "output_type": "execute_result",
          "data": {
            "text/plain": [
              "array([231, 172, 265, 182, 147,  17,   7, 107, 301, 117,  62, 299, 302,\n",
              "        18, 226, 187, 265, 300,  82, 322,  60, 118,  19,  57,  63, 165,\n",
              "       179, 180, 297, 148,  84, 205, 265, 298, 173, 320, 214,  20, 218,\n",
              "       120, 321,  58, 151, 127, 234,  21,   4,   4, 210, 121, 225, 151,\n",
              "       303, 128, 318, 306,  66, 159, 304, 100, 129, 316, 209, 212, 185,\n",
              "       167, 209, 265,  83, 132,   8, 199, 132, 305,  59, 311, 311, 219,\n",
              "       307, 108, 168, 143,   9, 122, 246,  74, 313, 326, 131, 181, 223,\n",
              "       112,  33,  13, 280, 248, 249,  49, 314,  25, 141, 170, 308, 323,\n",
              "       183,  61,  11,  46, 324, 325, 224,  85,  12,  79, 213, 235, 186,\n",
              "       134, 282, 152, 176, 101, 222, 250, 130, 309, 265, 133, 211, 133,\n",
              "       153, 232, 319, 142, 251, 265,   1,  67, 236,   5, 227, 161, 317,\n",
              "       203, 252,  31, 286,  22, 288, 188,  10, 197,  14, 284,  70, 115,\n",
              "       177, 255, 202,  80,  23, 289,  26,  87, 190, 202, 265, 139,  55,\n",
              "       315,  90,  51, 160, 257, 247,   6, 138,  92, 200, 166, 126,  71,\n",
              "       138, 295,  41, 265, 204, 162,  92,  86, 138, 174, 296, 258, 113,\n",
              "       215, 293,  91,  27, 144,  47,  35, 119, 109, 135, 171, 149, 294,\n",
              "       191,  34, 264, 310, 290, 189, 291, 114, 175,  97,  73,  77,  15,\n",
              "        77, 198,  36, 292, 155,  96, 136,  32, 201,  48, 263, 145, 220,\n",
              "        42, 137, 277,  88, 217, 104,  64, 281,  72, 261, 262, 111, 124,\n",
              "       192,  52, 221, 265, 230, 123, 278, 237, 259,  24, 105, 245, 276,\n",
              "       260, 216, 273, 146, 274, 265, 102,   3,  78,  93, 256, 312, 228,\n",
              "       184, 265, 163,  68, 275, 157, 233,  38, 287, 283, 106,  56, 279,\n",
              "       125,  94,  65, 193,  28, 140,  75, 244,  44, 253,  76, 269,   2,\n",
              "        29,  95, 265, 270,  89, 178,  39, 242, 103, 254, 206, 271, 243,\n",
              "        50,  37, 207, 229, 164, 154, 272, 285, 194, 241,  43, 158,  98,\n",
              "       267,  40, 169, 150, 116,  30,  81,  69,  16, 268, 265, 238, 208,\n",
              "        53,  45, 110, 156, 239, 195,  54, 240, 266, 196,  99], dtype=int32)"
            ]
          },
          "metadata": {},
          "execution_count": 74
        }
      ]
    },
    {
      "cell_type": "code",
      "metadata": {
        "colab": {
          "base_uri": "https://localhost:8080/"
        },
        "id": "qBn_7zZ9DQPG",
        "outputId": "c3249623-0194-4beb-ce03-2d7a5a09a024"
      },
      "source": [
        "ward_hcluster=[]\n",
        "for i in range(len(fc)):\n",
        "  if fc[i] in list(range(21)):\n",
        "    print(fc[i],vocab_similar[i])\n",
        "    ward_hcluster.append(vocab_similar[i])"
      ],
      "execution_count": null,
      "outputs": [
        {
          "output_type": "stream",
          "name": "stdout",
          "text": [
            "17 prayer\n",
            "7 finding\n",
            "18 job\n",
            "19 command\n",
            "20 appeal\n",
            "4 promises\n",
            "4 promise\n",
            "8 fashioning\n",
            "9 devising\n",
            "13 acquisition\n",
            "11 stay\n",
            "12 leadership\n",
            "1 tally\n",
            "5 determination\n",
            "10 making\n",
            "14 deal\n",
            "6 solving\n",
            "15 appeals\n",
            "3 serve\n",
            "2 run\n",
            "16 entreaty\n"
          ]
        }
      ]
    },
    {
      "cell_type": "code",
      "metadata": {
        "colab": {
          "base_uri": "https://localhost:8080/"
        },
        "id": "HotFT71RoSz-",
        "outputId": "ceefac6e-93ba-4b64-abe7-f95c99db9caf"
      },
      "source": [
        "for i in ward_hcluster:\n",
        "  print(i,end=\" \")"
      ],
      "execution_count": null,
      "outputs": [
        {
          "output_type": "stream",
          "name": "stdout",
          "text": [
            "prayer finding job command appeal promises promise fashioning devising acquisition stay leadership tally determination making deal solving appeals serve run entreaty "
          ]
        }
      ]
    },
    {
      "cell_type": "code",
      "metadata": {
        "colab": {
          "base_uri": "https://localhost:8080/"
        },
        "id": "2S6bnq02OPXz",
        "outputId": "447c368a-bfaf-4c1e-8b03-c5a60730e60a"
      },
      "source": [
        "evaluation(ward_hcluster,['confident', 'determination', 'diplomacy', 'honesty',\n",
        "       'intelligence', 'leadership', 'vision',\n",
        "       'political','skills', 'diversity', 'humble','knowledge'])"
      ],
      "execution_count": null,
      "outputs": [
        {
          "output_type": "execute_result",
          "data": {
            "text/plain": [
              "0.7458952631884962"
            ]
          },
          "metadata": {},
          "execution_count": 77
        }
      ]
    },
    {
      "cell_type": "code",
      "metadata": {
        "colab": {
          "base_uri": "https://localhost:8080/",
          "height": 492
        },
        "id": "gwPvYkhQA5dX",
        "outputId": "5ee7a301-3069-416d-898f-dc2b5be039df"
      },
      "source": [
        "plt.figure(figsize=(30,10))\n",
        "hierarchy.dendrogram(Z)\n",
        "plt.show()"
      ],
      "execution_count": null,
      "outputs": [
        {
          "output_type": "display_data",
          "data": {
            "image/png": "[encoded data removed]",
            "text/plain": [
              "<Figure size 2160x720 with 1 Axes>"
            ]
          },
          "metadata": {
            "needs_background": "light"
          }
        }
      ]
    },
    {
      "cell_type": "code",
      "metadata": {
        "colab": {
          "base_uri": "https://localhost:8080/"
        },
        "id": "WY4aEn7hFpX8",
        "outputId": "6f2892b5-ff5e-4654-b4fe-0f6daaa48bf5"
      },
      "source": [
        "y"
      ],
      "execution_count": null,
      "outputs": [
        {
          "output_type": "execute_result",
          "data": {
            "text/plain": [
              "array([[1.        , 0.13333333, 0.        , ..., 0.        , 0.35294118,\n",
              "        0.15384615],\n",
              "       [0.13333333, 1.        , 0.        , ..., 0.        , 0.14285714,\n",
              "        0.33333333],\n",
              "       [0.        , 0.        , 0.        , ..., 0.        , 0.        ,\n",
              "        0.        ],\n",
              "       ...,\n",
              "       [0.        , 0.        , 0.        , ..., 1.        , 0.        ,\n",
              "        0.        ],\n",
              "       [0.35294118, 0.14285714, 0.        , ..., 0.        , 1.        ,\n",
              "        0.16666667],\n",
              "       [0.15384615, 0.33333333, 0.        , ..., 0.        , 0.16666667,\n",
              "        1.        ]])"
            ]
          },
          "metadata": {},
          "execution_count": 82
        }
      ]
    },
    {
      "cell_type": "code",
      "metadata": {
        "id": "3bVxz7yZBPbl"
      },
      "source": [
        "from sklearn.cluster import KMeans\n",
        "inertia=[]\n",
        "for i in range(1,15):\n",
        "  kmeans = KMeans(n_clusters=i, random_state=0).fit(y)\n",
        "  inertia.append(kmeans.inertia_)"
      ],
      "execution_count": null,
      "outputs": []
    },
    {
      "cell_type": "code",
      "metadata": {
        "colab": {
          "base_uri": "https://localhost:8080/",
          "height": 296
        },
        "id": "V0Ju1eZWFapW",
        "outputId": "72c76e5b-d58d-4432-b7d0-487186369edb"
      },
      "source": [
        "plt.plot(list(range(1,15)),inertia)\n",
        "plt.xlabel(\"No. of clusters\")\n",
        "plt.ylabel(\"Cummulative Inertia\")"
      ],
      "execution_count": null,
      "outputs": [
        {
          "output_type": "execute_result",
          "data": {
            "text/plain": [
              "Text(0, 0.5, 'Cummulative Inertia')"
            ]
          },
          "metadata": {},
          "execution_count": 84
        },
        {
          "output_type": "display_data",
          "data": {
            "image/png": "[encoded data removed]",
            "text/plain": [
              "<Figure size 432x288 with 1 Axes>"
            ]
          },
          "metadata": {
            "needs_background": "light"
          }
        }
      ]
    },
    {
      "cell_type": "code",
      "metadata": {
        "id": "s6ft-tyvF80Y"
      },
      "source": [
        "kmeans_best = KMeans(n_clusters=4, random_state=0).fit(y)"
      ],
      "execution_count": null,
      "outputs": []
    },
    {
      "cell_type": "code",
      "metadata": {
        "id": "gscSDMkSHyU8"
      },
      "source": [
        "from numpy import dot\n",
        "from numpy.linalg import norm"
      ],
      "execution_count": null,
      "outputs": []
    },
    {
      "cell_type": "code",
      "metadata": {
        "colab": {
          "base_uri": "https://localhost:8080/"
        },
        "id": "csRRiZtlGG3K",
        "outputId": "8492d46d-eee8-437a-b7b0-9c798361445f"
      },
      "source": [
        "km_cluster=[]\n",
        "for i in kmeans_best.cluster_centers_:\n",
        "  for j in range(len(y)):\n",
        "    if dot(y[j],i)/(norm(y[j])*norm(i))<0.03:\n",
        "      print(vocab_similar[j])\n",
        "      km_cluster.append(vocab_similar[j])"
      ],
      "execution_count": null,
      "outputs": [
        {
          "output_type": "stream",
          "name": "stdout",
          "text": [
            "politically\n",
            "politically\n",
            "politically\n",
            "politically\n"
          ]
        },
        {
          "output_type": "stream",
          "name": "stderr",
          "text": [
            "/usr/local/lib/python3.7/dist-packages/ipykernel_launcher.py:4: RuntimeWarning: invalid value encountered in double_scalars\n",
            "  after removing the cwd from sys.path.\n"
          ]
        }
      ]
    },
    {
      "cell_type": "code",
      "metadata": {
        "id": "ET6Z2KZYHmZM",
        "colab": {
          "base_uri": "https://localhost:8080/"
        },
        "outputId": "968a5d32-d1b4-4d61-e6c5-ba1ef00e4667"
      },
      "source": [
        "evaluation(km_cluster,['confident', 'determination', 'diplomacy', 'honesty',\n",
        "       'intelligence', 'leadership', 'vision',\n",
        "       'political','skills', 'diversity', 'humble','knowledge'])"
      ],
      "execution_count": null,
      "outputs": [
        {
          "output_type": "execute_result",
          "data": {
            "text/plain": [
              "0.0"
            ]
          },
          "metadata": {},
          "execution_count": 92
        }
      ]
    },
    {
      "cell_type": "code",
      "metadata": {
        "id": "GUJRkQRmPGav"
      },
      "source": [
        ""
      ],
      "execution_count": null,
      "outputs": []
    }
  ]
}