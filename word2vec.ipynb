{
  "nbformat": 4,
  "nbformat_minor": 0,
  "metadata": {
    "colab": {
      "name": "word2vec.ipynb",
      "provenance": [],
      "authorship_tag": "ABX9TyNf/v+1TgGYliyfdzuFs8+x",
      "include_colab_link": true
    },
    "kernelspec": {
      "name": "python3",
      "display_name": "Python 3"
    },
    "language_info": {
      "name": "python"
    }
  },
  "cells": [
    {
      "cell_type": "markdown",
      "metadata": {
        "id": "view-in-github",
        "colab_type": "text"
      },
      "source": [
        "<a href=\"https://colab.research.google.com/github/Dinesh-Adhithya-H/Natural-Language-Processing/blob/main/word2vec.ipynb\" target=\"_parent\"><img src=\"https://colab.research.google.com/assets/colab-badge.svg\" alt=\"Open In Colab\"/></a>"
      ]
    },
    {
      "cell_type": "code",
      "metadata": {
        "colab": {
          "base_uri": "https://localhost:8080/"
        },
        "id": "MypgHZ-2JCXc",
        "outputId": "05fdcee1-bf47-40b1-f62c-e2ac09bb5825"
      },
      "source": [
        "from nltk.tokenize import sent_tokenize,word_tokenize\n",
        "import csv,warnings\n",
        "warnings.filterwarnings(action=\"ignore\")\n",
        "import nltk\n",
        "nltk.download('punkt')"
      ],
      "execution_count": 37,
      "outputs": [
        {
          "output_type": "stream",
          "name": "stdout",
          "text": [
            "[nltk_data] Downloading package punkt to /root/nltk_data...\n",
            "[nltk_data]   Unzipping tokenizers/punkt.zip.\n"
          ]
        },
        {
          "output_type": "execute_result",
          "data": {
            "text/plain": [
              "True"
            ]
          },
          "metadata": {},
          "execution_count": 37
        }
      ]
    },
    {
      "cell_type": "code",
      "metadata": {
        "id": "k7GE4cXlJRsx"
      },
      "source": [
        "import gensim\n",
        "from gensim.models import Word2Vec"
      ],
      "execution_count": 3,
      "outputs": []
    },
    {
      "cell_type": "code",
      "metadata": {
        "colab": {
          "base_uri": "https://localhost:8080/"
        },
        "id": "iqhELS0_Kpwg",
        "outputId": "142c3b15-9eee-4d06-bd38-22d081b7425e"
      },
      "source": [
        "!wget https://raw.githubusercontent.com/Dinesh-Adhithya-H/Natural-Language-Processing/main/SMS%20Spam%20Detection/spam.csv"
      ],
      "execution_count": 14,
      "outputs": [
        {
          "output_type": "stream",
          "name": "stdout",
          "text": [
            "--2021-10-13 05:44:13--  https://raw.githubusercontent.com/Dinesh-Adhithya-H/Natural-Language-Processing/main/SMS%20Spam%20Detection/spam.csv\n",
            "Resolving raw.githubusercontent.com (raw.githubusercontent.com)... 185.199.108.133, 185.199.109.133, 185.199.110.133, ...\n",
            "Connecting to raw.githubusercontent.com (raw.githubusercontent.com)|185.199.108.133|:443... connected.\n",
            "HTTP request sent, awaiting response... 200 OK\n",
            "Length: 503663 (492K) [text/plain]\n",
            "Saving to: ‘spam.csv’\n",
            "\n",
            "\rspam.csv              0%[                    ]       0  --.-KB/s               \rspam.csv            100%[===================>] 491.86K  --.-KB/s    in 0.02s   \n",
            "\n",
            "2021-10-13 05:44:13 (30.9 MB/s) - ‘spam.csv’ saved [503663/503663]\n",
            "\n"
          ]
        }
      ]
    },
    {
      "cell_type": "code",
      "metadata": {
        "id": "C8aBFuYfJixo"
      },
      "source": [
        "f1=open(r\"spam.csv\",\"r\",encoding='cp1252')"
      ],
      "execution_count": 28,
      "outputs": []
    },
    {
      "cell_type": "code",
      "metadata": {
        "id": "nq-HNZaqKoNS"
      },
      "source": [
        "reader=list(csv.reader(f1,delimiter=\"\\t\"))"
      ],
      "execution_count": 29,
      "outputs": []
    },
    {
      "cell_type": "code",
      "metadata": {
        "colab": {
          "base_uri": "https://localhost:8080/"
        },
        "id": "1hCx1f5rNPQE",
        "outputId": "56c131c6-c708-4c20-bebc-21b87d7bec69"
      },
      "source": [
        "reader[6]"
      ],
      "execution_count": 34,
      "outputs": [
        {
          "output_type": "execute_result",
          "data": {
            "text/plain": [
              "['spam,\"FreeMsg Hey there darling it\\'s been 3 week\\'s now and no word back! I\\'d like some fun you up for it still? Tb ok! XxX std chgs to send, å£1.50 to rcv\",,,']"
            ]
          },
          "metadata": {},
          "execution_count": 34
        }
      ]
    },
    {
      "cell_type": "code",
      "metadata": {
        "id": "4G4k08a3K31m"
      },
      "source": [
        "text=''; labels=[];\n",
        "for item in reader:\n",
        "    item=item[0].split(\",\")\n",
        "    if item[0]=='ham':\n",
        "        labels.append(1)\n",
        "    else:\n",
        "        labels.append(0)\n",
        "    text+=item[1]+'. '\n",
        "\n",
        "text = text.replace(\"\\n\", \" \")\n",
        "  \n",
        "data = []\n",
        "for sentence in sent_tokenize(text):\n",
        "    words = []    \n",
        "    for word in word_tokenize(sentence):  # tokenize the sentence into words\n",
        "        words.append(word.lower()) \n",
        "    data.append(words)"
      ],
      "execution_count": 38,
      "outputs": []
    },
    {
      "cell_type": "code",
      "metadata": {
        "id": "Y3NwitDANGju"
      },
      "source": [
        "# A CBOW Model\n",
        "model1=gensim.models.Word2Vec(data,min_count=1,window=30,sg=0)"
      ],
      "execution_count": 41,
      "outputs": []
    },
    {
      "cell_type": "code",
      "metadata": {
        "colab": {
          "base_uri": "https://localhost:8080/"
        },
        "id": "r2I0cishNv4J",
        "outputId": "582487ce-cc27-4eb5-bfb0-370efc218130"
      },
      "source": [
        "model1.wv.most_similar(\"mobile\",topn=10)"
      ],
      "execution_count": 43,
      "outputs": [
        {
          "output_type": "execute_result",
          "data": {
            "text/plain": [
              "[('call', 0.9997780323028564),\n",
              " ('+', 0.9997183084487915),\n",
              " ('customer', 0.9995644092559814),\n",
              " ('your', 0.9995039105415344),\n",
              " ('cash', 0.9994478225708008),\n",
              " ('camera', 0.9994462728500366),\n",
              " ('our', 0.9994461536407471),\n",
              " ('to', 0.9993398189544678),\n",
              " ('please', 0.9993339776992798),\n",
              " ('mins', 0.9993282556533813)]"
            ]
          },
          "metadata": {},
          "execution_count": 43
        }
      ]
    },
    {
      "cell_type": "code",
      "metadata": {
        "id": "HZusD12IOQcv"
      },
      "source": [
        "model2 = gensim.models.Word2Vec(data, min_count = 1, \n",
        "                                             window = 5, sg = 1)"
      ],
      "execution_count": 45,
      "outputs": []
    },
    {
      "cell_type": "code",
      "metadata": {
        "colab": {
          "base_uri": "https://localhost:8080/"
        },
        "id": "9KNrRM99OYlI",
        "outputId": "0fbb409d-f04b-4195-eb00-f7cd78d764ed"
      },
      "source": [
        "model2.wv.most_similar('mobile', topn=10)"
      ],
      "execution_count": 47,
      "outputs": [
        {
          "output_type": "execute_result",
          "data": {
            "text/plain": [
              "[('claim', 0.965140700340271),\n",
              " ('cash', 0.9599427580833435),\n",
              " ('entry', 0.9590097665786743),\n",
              " ('nokia', 0.9588607549667358),\n",
              " ('txt', 0.9579588770866394),\n",
              " ('free', 0.9576221704483032),\n",
              " ('+', 0.9543346166610718),\n",
              " ('service', 0.9533184766769409),\n",
              " ('å£5000', 0.9519526958465576),\n",
              " ('weekly', 0.94978928565979)]"
            ]
          },
          "metadata": {},
          "execution_count": 47
        }
      ]
    },
    {
      "cell_type": "code",
      "metadata": {
        "id": "sdzKnshFOdgj"
      },
      "source": [
        ""
      ],
      "execution_count": null,
      "outputs": []
    }
  ]
}