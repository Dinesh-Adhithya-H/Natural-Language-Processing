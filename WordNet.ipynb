{
  "nbformat": 4,
  "nbformat_minor": 0,
  "metadata": {
    "colab": {
      "name": "WordNet.ipynb",
      "provenance": [],
      "authorship_tag": "ABX9TyM9odAAloHK0Y0VMYSmX2uV",
      "include_colab_link": true
    },
    "kernelspec": {
      "name": "python3",
      "display_name": "Python 3"
    },
    "language_info": {
      "name": "python"
    }
  },
  "cells": [
    {
      "cell_type": "markdown",
      "metadata": {
        "id": "view-in-github",
        "colab_type": "text"
      },
      "source": [
        "<a href=\"https://colab.research.google.com/github/Dinesh-Adhithya-H/Natural-Language-Processing/blob/main/WordNet.ipynb\" target=\"_parent\"><img src=\"https://colab.research.google.com/assets/colab-badge.svg\" alt=\"Open In Colab\"/></a>"
      ]
    },
    {
      "cell_type": "code",
      "metadata": {
        "colab": {
          "base_uri": "https://localhost:8080/"
        },
        "id": "ulB2bxTYV8v0",
        "outputId": "4702b100-2388-4443-bfe5-6600bcb1b3be"
      },
      "source": [
        "import nltk\n",
        "nltk.download('wordnet')\n",
        "from nltk.corpus import wordnet as wn"
      ],
      "execution_count": null,
      "outputs": [
        {
          "output_type": "stream",
          "name": "stdout",
          "text": [
            "[nltk_data] Downloading package wordnet to /root/nltk_data...\n",
            "[nltk_data]   Unzipping corpora/wordnet.zip.\n"
          ]
        }
      ]
    },
    {
      "cell_type": "code",
      "metadata": {
        "id": "R9ap-K-KWCxp"
      },
      "source": [
        "syn1=wn.synsets(\"grain\")"
      ],
      "execution_count": null,
      "outputs": []
    },
    {
      "cell_type": "code",
      "metadata": {
        "colab": {
          "base_uri": "https://localhost:8080/"
        },
        "id": "77UkADA3WKQ-",
        "outputId": "16c499a4-8937-4377-cae1-2db05b4bb407"
      },
      "source": [
        "syn1[1].hypernyms()"
      ],
      "execution_count": null,
      "outputs": [
        {
          "output_type": "execute_result",
          "data": {
            "text/plain": [
              "[Synset('foodstuff.n.02')]"
            ]
          },
          "metadata": {},
          "execution_count": 10
        }
      ]
    },
    {
      "cell_type": "code",
      "metadata": {
        "colab": {
          "base_uri": "https://localhost:8080/",
          "height": 36
        },
        "id": "yoSrJHUxWkeI",
        "outputId": "87122f93-7cef-47a8-d820-fb2732c62d35"
      },
      "source": [
        "syn1[1].name()"
      ],
      "execution_count": null,
      "outputs": [
        {
          "output_type": "execute_result",
          "data": {
            "application/vnd.google.colaboratory.intrinsic+json": {
              "type": "string"
            },
            "text/plain": [
              "'grain.n.02'"
            ]
          },
          "metadata": {},
          "execution_count": 11
        }
      ]
    },
    {
      "cell_type": "code",
      "metadata": {
        "colab": {
          "base_uri": "https://localhost:8080/",
          "height": 36
        },
        "id": "wvNZP3WPWtHi",
        "outputId": "8dd85e0f-4d46-444d-eb70-aaea23af89df"
      },
      "source": [
        "syn1[1].definition()"
      ],
      "execution_count": null,
      "outputs": [
        {
          "output_type": "execute_result",
          "data": {
            "application/vnd.google.colaboratory.intrinsic+json": {
              "type": "string"
            },
            "text/plain": [
              "'foodstuff prepared from the starchy grains of cereal grasses'"
            ]
          },
          "metadata": {},
          "execution_count": 12
        }
      ]
    },
    {
      "cell_type": "code",
      "metadata": {
        "colab": {
          "base_uri": "https://localhost:8080/",
          "height": 36
        },
        "id": "NjZvmElPWxjs",
        "outputId": "b21abd99-5bf8-4ebf-c57b-f9c2cde632d3"
      },
      "source": [
        "syn1[1].pos()"
      ],
      "execution_count": null,
      "outputs": [
        {
          "output_type": "execute_result",
          "data": {
            "application/vnd.google.colaboratory.intrinsic+json": {
              "type": "string"
            },
            "text/plain": [
              "'n'"
            ]
          },
          "metadata": {},
          "execution_count": 13
        }
      ]
    },
    {
      "cell_type": "code",
      "metadata": {
        "colab": {
          "base_uri": "https://localhost:8080/"
        },
        "id": "zVpzssbjWz0r",
        "outputId": "d6aa6285-73b5-442f-8db5-31fe40c63f09"
      },
      "source": [
        "syn1[1].examples()"
      ],
      "execution_count": null,
      "outputs": [
        {
          "output_type": "execute_result",
          "data": {
            "text/plain": [
              "[]"
            ]
          },
          "metadata": {},
          "execution_count": 14
        }
      ]
    },
    {
      "cell_type": "code",
      "metadata": {
        "colab": {
          "base_uri": "https://localhost:8080/"
        },
        "id": "JQjWQkIAW4nc",
        "outputId": "d8192318-3d97-43a4-d872-cb7038104358"
      },
      "source": [
        "syn1[1].hyponyms()"
      ],
      "execution_count": null,
      "outputs": [
        {
          "output_type": "execute_result",
          "data": {
            "text/plain": [
              "[Synset('barley.n.01'),\n",
              " Synset('buckwheat.n.02'),\n",
              " Synset('corn.n.03'),\n",
              " Synset('grist.n.01'),\n",
              " Synset('groats.n.01'),\n",
              " Synset('malt.n.03'),\n",
              " Synset('millet.n.03'),\n",
              " Synset('oat.n.02'),\n",
              " Synset('rice.n.01'),\n",
              " Synset('wheat.n.02'),\n",
              " Synset('wild_rice.n.02')]"
            ]
          },
          "metadata": {},
          "execution_count": 16
        }
      ]
    },
    {
      "cell_type": "code",
      "metadata": {
        "colab": {
          "base_uri": "https://localhost:8080/"
        },
        "id": "Lr5n8ndfXB17",
        "outputId": "57e9cb36-fd84-4cd1-a6b6-98ca3de44185"
      },
      "source": [
        "syn1[1].lemmas()"
      ],
      "execution_count": null,
      "outputs": [
        {
          "output_type": "execute_result",
          "data": {
            "text/plain": [
              "[Lemma('grain.n.02.grain'),\n",
              " Lemma('grain.n.02.food_grain'),\n",
              " Lemma('grain.n.02.cereal')]"
            ]
          },
          "metadata": {},
          "execution_count": 18
        }
      ]
    },
    {
      "cell_type": "code",
      "metadata": {
        "colab": {
          "base_uri": "https://localhost:8080/"
        },
        "id": "1p5aFWE3XI6p",
        "outputId": "d3d443c3-4e4a-4318-c472-2da19ea9ea63"
      },
      "source": [
        "for i in syn1[1].lemmas():\n",
        "  print(i.antonyms())\n",
        "  print(i.derivationally_related_forms())"
      ],
      "execution_count": null,
      "outputs": [
        {
          "output_type": "stream",
          "name": "stdout",
          "text": [
            "[]\n",
            "[]\n",
            "[]\n",
            "[]\n",
            "[]\n",
            "[Lemma('cereal.a.01.cereal')]\n"
          ]
        }
      ]
    },
    {
      "cell_type": "code",
      "metadata": {
        "colab": {
          "base_uri": "https://localhost:8080/"
        },
        "id": "LSzpEHGqYyiy",
        "outputId": "b03dbcbd-4b63-4071-ba19-47c8b0867acc"
      },
      "source": [
        "syn1[1],syn1[2]"
      ],
      "execution_count": null,
      "outputs": [
        {
          "output_type": "execute_result",
          "data": {
            "text/plain": [
              "(Synset('grain.n.02'), Synset('grain.n.03'))"
            ]
          },
          "metadata": {},
          "execution_count": 35
        }
      ]
    },
    {
      "cell_type": "code",
      "metadata": {
        "colab": {
          "base_uri": "https://localhost:8080/"
        },
        "id": "QZeeLvSzXTYR",
        "outputId": "8cc0d6bc-2438-4897-a6b6-21b17e9a6409"
      },
      "source": [
        "wn.path_similarity(syn1[1],syn1[2])"
      ],
      "execution_count": null,
      "outputs": [
        {
          "output_type": "execute_result",
          "data": {
            "text/plain": [
              "0.08333333333333333"
            ]
          },
          "metadata": {},
          "execution_count": 27
        }
      ]
    },
    {
      "cell_type": "code",
      "metadata": {
        "colab": {
          "base_uri": "https://localhost:8080/"
        },
        "id": "u4bjcK6vYJ0e",
        "outputId": "7fab3f90-2ead-4fa9-97da-8b40a68fcd66"
      },
      "source": [
        "wn.wup_similarity(syn1[1],syn1[2])"
      ],
      "execution_count": null,
      "outputs": [
        {
          "output_type": "execute_result",
          "data": {
            "text/plain": [
              "0.35294117647058826"
            ]
          },
          "metadata": {},
          "execution_count": 34
        }
      ]
    },
    {
      "cell_type": "code",
      "metadata": {
        "colab": {
          "base_uri": "https://localhost:8080/"
        },
        "id": "EqJrCZ-XYQmy",
        "outputId": "d79176d5-4405-473e-b4a1-ed66112e6190"
      },
      "source": [
        "wn.lch_similarity(syn1[1],syn1[2])"
      ],
      "execution_count": null,
      "outputs": [
        {
          "output_type": "execute_result",
          "data": {
            "text/plain": [
              "1.1526795099383855"
            ]
          },
          "metadata": {},
          "execution_count": 38
        }
      ]
    },
    {
      "cell_type": "code",
      "metadata": {
        "id": "20rpLk2WddDj"
      },
      "source": [
        ""
      ],
      "execution_count": null,
      "outputs": []
    }
  ]
}