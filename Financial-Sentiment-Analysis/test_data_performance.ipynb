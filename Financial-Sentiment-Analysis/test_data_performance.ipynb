{
  "nbformat": 4,
  "nbformat_minor": 0,
  "metadata": {
    "colab": {
      "name": "test_data_performance.ipynb",
      "provenance": []
    },
    "kernelspec": {
      "name": "python3",
      "display_name": "Python 3"
    },
    "language_info": {
      "name": "python"
    }
  },
  "cells": [
    {
      "cell_type": "code",
      "metadata": {
        "id": "9wuJIHEv5a7m"
      },
      "source": [
        "import sklearn\n",
        "from sklearn.metrics import classification_report"
      ],
      "execution_count": 1,
      "outputs": []
    },
    {
      "cell_type": "code",
      "metadata": {
        "colab": {
          "base_uri": "https://localhost:8080/"
        },
        "id": "iYpxCpNEy165",
        "outputId": "b87d0939-5a66-41d6-fd6b-165798b15bbc"
      },
      "source": [
        "!wget https://github.com/Dinesh-Adhithya-H/Natural-Language-Processing/raw/main/Financial-Sentiment-Analysis/output.txt\n",
        "!wget https://github.com/Dinesh-Adhithya-H/Natural-Language-Processing/raw/main/Financial-Sentiment-Analysis/assignment1_test_data_labels.txt"
      ],
      "execution_count": 2,
      "outputs": [
        {
          "output_type": "stream",
          "name": "stdout",
          "text": [
            "--2021-10-07 12:48:15--  https://github.com/Dinesh-Adhithya-H/Natural-Language-Processing/raw/main/Financial-Sentiment-Analysis/output.txt\n",
            "Resolving github.com (github.com)... 140.82.112.4\n",
            "Connecting to github.com (github.com)|140.82.112.4|:443... connected.\n",
            "HTTP request sent, awaiting response... 302 Found\n",
            "Location: https://raw.githubusercontent.com/Dinesh-Adhithya-H/Natural-Language-Processing/main/Financial-Sentiment-Analysis/output.txt [following]\n",
            "--2021-10-07 12:48:15--  https://raw.githubusercontent.com/Dinesh-Adhithya-H/Natural-Language-Processing/main/Financial-Sentiment-Analysis/output.txt\n",
            "Resolving raw.githubusercontent.com (raw.githubusercontent.com)... 185.199.108.133, 185.199.109.133, 185.199.110.133, ...\n",
            "Connecting to raw.githubusercontent.com (raw.githubusercontent.com)|185.199.108.133|:443... connected.\n",
            "HTTP request sent, awaiting response... 200 OK\n",
            "Length: 4246 (4.1K) [text/plain]\n",
            "Saving to: ‘output.txt’\n",
            "\n",
            "\routput.txt            0%[                    ]       0  --.-KB/s               \routput.txt          100%[===================>]   4.15K  --.-KB/s    in 0s      \n",
            "\n",
            "2021-10-07 12:48:15 (48.6 MB/s) - ‘output.txt’ saved [4246/4246]\n",
            "\n",
            "--2021-10-07 12:48:15--  https://github.com/Dinesh-Adhithya-H/Natural-Language-Processing/raw/main/Financial-Sentiment-Analysis/assignment1_test_data_labels.txt\n",
            "Resolving github.com (github.com)... 140.82.114.4\n",
            "Connecting to github.com (github.com)|140.82.114.4|:443... connected.\n",
            "HTTP request sent, awaiting response... 302 Found\n",
            "Location: https://raw.githubusercontent.com/Dinesh-Adhithya-H/Natural-Language-Processing/main/Financial-Sentiment-Analysis/assignment1_test_data_labels.txt [following]\n",
            "--2021-10-07 12:48:15--  https://raw.githubusercontent.com/Dinesh-Adhithya-H/Natural-Language-Processing/main/Financial-Sentiment-Analysis/assignment1_test_data_labels.txt\n",
            "Resolving raw.githubusercontent.com (raw.githubusercontent.com)... 185.199.110.133, 185.199.111.133, 185.199.108.133, ...\n",
            "Connecting to raw.githubusercontent.com (raw.githubusercontent.com)|185.199.110.133|:443... connected.\n",
            "HTTP request sent, awaiting response... 200 OK\n",
            "Length: 3799 (3.7K) [text/plain]\n",
            "Saving to: ‘assignment1_test_data_labels.txt’\n",
            "\n",
            "assignment1_test_da 100%[===================>]   3.71K  --.-KB/s    in 0s      \n",
            "\n",
            "2021-10-07 12:48:16 (60.2 MB/s) - ‘assignment1_test_data_labels.txt’ saved [3799/3799]\n",
            "\n"
          ]
        }
      ]
    },
    {
      "cell_type": "code",
      "metadata": {
        "id": "OLG3rSG9zAQJ"
      },
      "source": [
        "file1=open(\"output.txt\",\"r\")\n",
        "file2=open(\"assignment1_test_data_labels.txt\",\"r\")"
      ],
      "execution_count": 10,
      "outputs": []
    },
    {
      "cell_type": "code",
      "metadata": {
        "id": "tYlwk9eazEaT"
      },
      "source": [
        "y=file1.readlines()"
      ],
      "execution_count": 11,
      "outputs": []
    },
    {
      "cell_type": "code",
      "metadata": {
        "id": "Pe4Faj3czGrU"
      },
      "source": [
        "y1=file2.readlines()"
      ],
      "execution_count": 12,
      "outputs": []
    },
    {
      "cell_type": "code",
      "metadata": {
        "id": "dKvpkgErzqTi"
      },
      "source": [
        "for i in range(len(y)):\n",
        "  y[i]=y[i].rstrip(\"\\n\")"
      ],
      "execution_count": 19,
      "outputs": []
    },
    {
      "cell_type": "code",
      "metadata": {
        "id": "woBym7Fpz0h4"
      },
      "source": [
        "for i in range(len(y)):\n",
        "  y1[i]=y1[i].rstrip(\"\\n\")"
      ],
      "execution_count": 20,
      "outputs": []
    },
    {
      "cell_type": "code",
      "metadata": {
        "colab": {
          "base_uri": "https://localhost:8080/"
        },
        "id": "1YI9ChXMzXbh",
        "outputId": "4ba40a67-d78b-485a-f642-0ca0f1d3afde"
      },
      "source": [
        "print(classification_report(y,y1))"
      ],
      "execution_count": 21,
      "outputs": [
        {
          "output_type": "stream",
          "name": "stdout",
          "text": [
            "              precision    recall  f1-score   support\n",
            "\n",
            "    negative       0.85      0.71      0.78        73\n",
            "     neutral       0.94      0.93      0.93       282\n",
            "    positive       0.70      0.82      0.75        98\n",
            "\n",
            "    accuracy                           0.87       453\n",
            "   macro avg       0.83      0.82      0.82       453\n",
            "weighted avg       0.87      0.87      0.87       453\n",
            "\n"
          ]
        }
      ]
    },
    {
      "cell_type": "code",
      "metadata": {
        "id": "v6vsc13IzYXz"
      },
      "source": [
        ""
      ],
      "execution_count": null,
      "outputs": []
    }
  ]
}