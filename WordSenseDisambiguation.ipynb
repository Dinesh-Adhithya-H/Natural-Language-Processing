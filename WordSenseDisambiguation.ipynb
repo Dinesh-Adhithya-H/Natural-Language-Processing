{
  "nbformat": 4,
  "nbformat_minor": 0,
  "metadata": {
    "colab": {
      "name": "WordSenseDisambiguation.ipynb",
      "provenance": [],
      "authorship_tag": "ABX9TyPrPPRm73iDk6Oi+dwuw/PO",
      "include_colab_link": true
    },
    "kernelspec": {
      "name": "python3",
      "display_name": "Python 3"
    },
    "language_info": {
      "name": "python"
    }
  },
  "cells": [
    {
      "cell_type": "markdown",
      "metadata": {
        "id": "view-in-github",
        "colab_type": "text"
      },
      "source": [
        "<a href=\"https://colab.research.google.com/github/Dinesh-Adhithya-H/Natural-Language-Processing/blob/main/WordSenseDisambiguation.ipynb\" target=\"_parent\"><img src=\"https://colab.research.google.com/assets/colab-badge.svg\" alt=\"Open In Colab\"/></a>"
      ]
    },
    {
      "cell_type": "code",
      "metadata": {
        "colab": {
          "base_uri": "https://localhost:8080/"
        },
        "id": "Dy6N0N6IfxvJ",
        "outputId": "4879eed5-6d4f-4d30-c12f-40d1236adccf"
      },
      "source": [
        "import nltk\n",
        "from nltk.corpus import wordnet as wn\n",
        "nltk.download('wordnet')\n",
        "from nltk.tokenize import word_tokenize\n",
        "from nltk.wsd import lesk\n",
        "nltk.download('punkt')"
      ],
      "execution_count": null,
      "outputs": [
        {
          "output_type": "stream",
          "name": "stdout",
          "text": [
            "[nltk_data] Downloading package wordnet to /root/nltk_data...\n",
            "[nltk_data]   Package wordnet is already up-to-date!\n",
            "[nltk_data] Downloading package punkt to /root/nltk_data...\n",
            "[nltk_data]   Package punkt is already up-to-date!\n"
          ]
        },
        {
          "output_type": "execute_result",
          "data": {
            "text/plain": [
              "True"
            ]
          },
          "metadata": {},
          "execution_count": 34
        }
      ]
    },
    {
      "cell_type": "code",
      "metadata": {
        "id": "5DivWu89f435"
      },
      "source": [
        "w1=\"current\"\n",
        "syn=wn.synsets(w1)"
      ],
      "execution_count": null,
      "outputs": []
    },
    {
      "cell_type": "code",
      "metadata": {
        "colab": {
          "base_uri": "https://localhost:8080/"
        },
        "id": "Spij7Q0zgERJ",
        "outputId": "51e98e70-3319-435d-ea02-3d4912c2aeb9"
      },
      "source": [
        "syn"
      ],
      "execution_count": null,
      "outputs": [
        {
          "output_type": "execute_result",
          "data": {
            "text/plain": [
              "[Synset('current.n.01'),\n",
              " Synset('current.n.02'),\n",
              " Synset('stream.n.02'),\n",
              " Synset('current.a.01')]"
            ]
          },
          "metadata": {},
          "execution_count": 15
        }
      ]
    },
    {
      "cell_type": "code",
      "metadata": {
        "colab": {
          "base_uri": "https://localhost:8080/",
          "height": 54
        },
        "id": "dj0ATWAHgJIh",
        "outputId": "055df521-aac6-4a37-addf-c70a7695197f"
      },
      "source": [
        "syn[1].definition()"
      ],
      "execution_count": null,
      "outputs": [
        {
          "output_type": "execute_result",
          "data": {
            "application/vnd.google.colaboratory.intrinsic+json": {
              "type": "string"
            },
            "text/plain": [
              "'a long-term economic state characterized by unemployment and low prices and low levels of trade and investment'"
            ]
          },
          "metadata": {},
          "execution_count": 7
        }
      ]
    },
    {
      "cell_type": "code",
      "metadata": {
        "id": "zuAz2pCmgMmw"
      },
      "source": [
        "sen=\"Electric current is flow of charges\"#\"my friend is suffering from depression\""
      ],
      "execution_count": null,
      "outputs": []
    },
    {
      "cell_type": "markdown",
      "metadata": {
        "id": "fsGa1DeMg4Rr"
      },
      "source": [
        "# Lesk Algorithm"
      ]
    },
    {
      "cell_type": "code",
      "metadata": {
        "colab": {
          "base_uri": "https://localhost:8080/"
        },
        "id": "sN9FguD-gRSO",
        "outputId": "cf3f82ad-4f40-49bf-dc87-b01be27f420e"
      },
      "source": [
        "for j in syn:\n",
        "  count=0\n",
        "  def1=j.definition()\n",
        "  for i in sen.split():\n",
        "    if i in def1:\n",
        "      count+=1\n",
        "  print(count)"
      ],
      "execution_count": null,
      "outputs": [
        {
          "output_type": "stream",
          "name": "stdout",
          "text": [
            "2\n",
            "2\n",
            "1\n",
            "0\n"
          ]
        }
      ]
    },
    {
      "cell_type": "markdown",
      "metadata": {
        "id": "KcTrxyPPhowx"
      },
      "source": [
        "# lesk Algorithm in nltk"
      ]
    },
    {
      "cell_type": "code",
      "metadata": {
        "id": "ICxDCR-FgjLd"
      },
      "source": [
        "x=lesk(word_tokenize(sen),\"current\")"
      ],
      "execution_count": null,
      "outputs": []
    },
    {
      "cell_type": "code",
      "metadata": {
        "colab": {
          "base_uri": "https://localhost:8080/"
        },
        "id": "jxP1ZsEYhx6P",
        "outputId": "0c024394-1a93-4b99-8919-dc122619e74e"
      },
      "source": [
        "x"
      ],
      "execution_count": null,
      "outputs": [
        {
          "output_type": "execute_result",
          "data": {
            "text/plain": [
              "Synset('current.n.02')"
            ]
          },
          "metadata": {},
          "execution_count": 26
        }
      ]
    },
    {
      "cell_type": "code",
      "metadata": {
        "colab": {
          "base_uri": "https://localhost:8080/",
          "height": 36
        },
        "id": "Zx-FIA8Lh2Sp",
        "outputId": "f5237db0-7e3b-4547-efc9-7333dae11c24"
      },
      "source": [
        "x.definition()"
      ],
      "execution_count": null,
      "outputs": [
        {
          "output_type": "execute_result",
          "data": {
            "application/vnd.google.colaboratory.intrinsic+json": {
              "type": "string"
            },
            "text/plain": [
              "'a steady flow of a fluid (usually from natural causes)'"
            ]
          },
          "metadata": {},
          "execution_count": 27
        }
      ]
    },
    {
      "cell_type": "code",
      "metadata": {
        "id": "9cmnTN_Vh_0Z"
      },
      "source": [
        "y=lesk(word_tokenize(\"current time is 10 pm\"),\"current\")"
      ],
      "execution_count": null,
      "outputs": []
    },
    {
      "cell_type": "code",
      "metadata": {
        "colab": {
          "base_uri": "https://localhost:8080/"
        },
        "id": "B-BJ_N6piP7N",
        "outputId": "1fefc127-0cf4-4f76-bab0-debd1ded57e3"
      },
      "source": [
        "y"
      ],
      "execution_count": null,
      "outputs": [
        {
          "output_type": "execute_result",
          "data": {
            "text/plain": [
              "Synset('current.a.01')"
            ]
          },
          "metadata": {},
          "execution_count": 29
        }
      ]
    },
    {
      "cell_type": "code",
      "metadata": {
        "colab": {
          "base_uri": "https://localhost:8080/",
          "height": 36
        },
        "id": "LYde-yJJiRN7",
        "outputId": "59f001ff-eecb-44dd-e144-d8002886b79c"
      },
      "source": [
        "y.definition()"
      ],
      "execution_count": null,
      "outputs": [
        {
          "output_type": "execute_result",
          "data": {
            "application/vnd.google.colaboratory.intrinsic+json": {
              "type": "string"
            },
            "text/plain": [
              "'occurring in or belonging to the present time'"
            ]
          },
          "metadata": {},
          "execution_count": 30
        }
      ]
    },
    {
      "cell_type": "code",
      "metadata": {
        "id": "PooXhcKTiTBs"
      },
      "source": [
        "z=lesk(word_tokenize(\"current covid situation is normal\"),\"current\")"
      ],
      "execution_count": null,
      "outputs": []
    },
    {
      "cell_type": "code",
      "metadata": {
        "colab": {
          "base_uri": "https://localhost:8080/",
          "height": 54
        },
        "id": "w3jTrJDCicrW",
        "outputId": "d57ff302-6495-4f43-b54f-21a3c2331d4d"
      },
      "source": [
        "z.definition()"
      ],
      "execution_count": null,
      "outputs": [
        {
          "output_type": "execute_result",
          "data": {
            "application/vnd.google.colaboratory.intrinsic+json": {
              "type": "string"
            },
            "text/plain": [
              "'dominant course (suggestive of running water) of successive events or ideas'"
            ]
          },
          "metadata": {},
          "execution_count": 32
        }
      ]
    },
    {
      "cell_type": "code",
      "metadata": {
        "id": "TBLyPj2uid2l"
      },
      "source": [
        ""
      ],
      "execution_count": null,
      "outputs": []
    }
  ]
}