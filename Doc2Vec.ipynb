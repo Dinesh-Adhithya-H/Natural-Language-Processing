{
  "nbformat": 4,
  "nbformat_minor": 0,
  "metadata": {
    "colab": {
      "name": "Doc2Vec.ipynb",
      "provenance": [],
      "authorship_tag": "ABX9TyPYQojMIX8oXbrwJSsoNw5m",
      "include_colab_link": true
    },
    "kernelspec": {
      "name": "python3",
      "display_name": "Python 3"
    },
    "language_info": {
      "name": "python"
    }
  },
  "cells": [
    {
      "cell_type": "markdown",
      "metadata": {
        "id": "view-in-github",
        "colab_type": "text"
      },
      "source": [
        "<a href=\"https://colab.research.google.com/github/Dinesh-Adhithya-H/Natural-Language-Processing/blob/main/Doc2Vec.ipynb\" target=\"_parent\"><img src=\"https://colab.research.google.com/assets/colab-badge.svg\" alt=\"Open In Colab\"/></a>"
      ]
    },
    {
      "cell_type": "code",
      "metadata": {
        "colab": {
          "base_uri": "https://localhost:8080/"
        },
        "id": "T5HOWE1N3_7T",
        "outputId": "72e8a2b9-f339-4927-c1e8-6a00f6655686"
      },
      "source": [
        "import os,sys,csv,re\n",
        "from gensim.models.doc2vec import Doc2Vec,TaggedDocument\n",
        "from nltk.tokenize import word_tokenize\n",
        "import numpy as np\n",
        "import nltk\n",
        "nltk.download('punkt')"
      ],
      "execution_count": 1,
      "outputs": [
        {
          "output_type": "stream",
          "name": "stdout",
          "text": [
            "[nltk_data] Downloading package punkt to /root/nltk_data...\n",
            "[nltk_data]   Unzipping tokenizers/punkt.zip.\n"
          ]
        },
        {
          "output_type": "execute_result",
          "data": {
            "text/plain": [
              "True"
            ]
          },
          "metadata": {},
          "execution_count": 1
        }
      ]
    },
    {
      "cell_type": "code",
      "metadata": {
        "id": "VXKSqCId4UyD"
      },
      "source": [
        "trn_data=[\"I love machine learning. Its awesome.\",\n",
        "        \"I love coding in python\",\n",
        "        \"I love building chatbots\",\n",
        "        \"They chat amagingly well\"]"
      ],
      "execution_count": 2,
      "outputs": []
    },
    {
      "cell_type": "code",
      "metadata": {
        "id": "4HyQQFaK4m4h"
      },
      "source": [
        "tagged_train=[TaggedDocument(words=word_tokenize(_d.lower()),tags=[str(i)]) for i,_d in enumerate(trn_data) ]"
      ],
      "execution_count": 3,
      "outputs": []
    },
    {
      "cell_type": "code",
      "metadata": {
        "colab": {
          "base_uri": "https://localhost:8080/"
        },
        "id": "aKrwVEmS5HCL",
        "outputId": "e367e091-e542-4fdd-818e-23caae9e5415"
      },
      "source": [
        "tagged_train"
      ],
      "execution_count": 4,
      "outputs": [
        {
          "output_type": "execute_result",
          "data": {
            "text/plain": [
              "[TaggedDocument(words=['i', 'love', 'machine', 'learning', '.', 'its', 'awesome', '.'], tags=['0']),\n",
              " TaggedDocument(words=['i', 'love', 'coding', 'in', 'python'], tags=['1']),\n",
              " TaggedDocument(words=['i', 'love', 'building', 'chatbots'], tags=['2']),\n",
              " TaggedDocument(words=['they', 'chat', 'amagingly', 'well'], tags=['3'])]"
            ]
          },
          "metadata": {},
          "execution_count": 4
        }
      ]
    },
    {
      "cell_type": "code",
      "metadata": {
        "colab": {
          "base_uri": "https://localhost:8080/"
        },
        "id": "J8jVVPfX8PyK",
        "outputId": "a072aaa3-91b0-4483-a07b-3285c0c47787"
      },
      "source": [
        "ln=int(str(input(\"Enter length of document vector:\")))"
      ],
      "execution_count": 5,
      "outputs": [
        {
          "name": "stdout",
          "output_type": "stream",
          "text": [
            "Enter length of document vector:20\n"
          ]
        }
      ]
    },
    {
      "cell_type": "code",
      "metadata": {
        "id": "IipvCAPi-ZFW"
      },
      "source": [
        "epochs=100\n",
        "trn_model=Doc2Vec(vector_size=ln,alpha=0.0025,min_count=1,dm=1)"
      ],
      "execution_count": 6,
      "outputs": []
    },
    {
      "cell_type": "code",
      "metadata": {
        "id": "P52NXI9U-n7E"
      },
      "source": [
        "trn_model.build_vocab(tagged_train)"
      ],
      "execution_count": 7,
      "outputs": []
    },
    {
      "cell_type": "code",
      "metadata": {
        "id": "EUbJSzd5-rsn"
      },
      "source": [
        "for epoch in range(epochs):\n",
        "  trn_model.train(tagged_train,total_examples=trn_model.corpus_count,epochs=10)\n",
        "  trn_model.alpha-=0.0002\n",
        "  trn_model.min_alpha=trn_model.alpha\n",
        "trn_model.save(\"./doc2vec.model\")"
      ],
      "execution_count": 8,
      "outputs": []
    },
    {
      "cell_type": "code",
      "metadata": {
        "colab": {
          "base_uri": "https://localhost:8080/"
        },
        "id": "PYs4RPHvQyx-",
        "outputId": "333774a2-2fe1-4408-c70e-4a168b3957a7"
      },
      "source": [
        "trn_vec=[]\n",
        "for i in range(0,len(trn_data)):\n",
        "      vec=[] \n",
        "      for v in trn_model.docvecs[i]:\n",
        "          vec.append(v)\n",
        "      trn_vec.append(vec)\n",
        "print(trn_vec)"
      ],
      "execution_count": 9,
      "outputs": [
        {
          "output_type": "stream",
          "name": "stdout",
          "text": [
            "[[-1.6023458, 1.2057593, 1.8621767, 1.1196454, 1.2651045, -1.267674, -0.7136858, -2.055824, 0.07059186, -0.2692655, 2.1524863, 0.8235276, 0.43915904, -0.54242206, -0.72275126, 0.45272073, -0.47176707, 0.7187099, -0.41578478, -1.3956475], [-1.0493903, 0.8232476, 1.2564803, 0.6882801, 0.87793374, -0.8891442, -0.4737537, -1.4244709, 0.021933515, -0.1897661, 1.4742682, 0.510609, 0.3314763, -0.41397855, -0.50279653, 0.27079588, -0.27509624, 0.51405126, -0.2635604, -0.9523282], [-0.864855, 0.6403911, 0.99927187, 0.5665906, 0.6650445, -0.6775236, -0.37217844, -1.0636737, 0.08446802, -0.17163484, 1.1471348, 0.42905548, 0.2738529, -0.3439413, -0.33765164, 0.22698475, -0.21289098, 0.436033, -0.21503383, -0.7508144], [-1.0505563, 0.78662676, 1.2280446, 0.73182535, 0.84262896, -0.803288, -0.47518492, -1.3327006, 0.064938925, -0.18325998, 1.4199134, 0.49760664, 0.25897706, -0.3707865, -0.40693396, 0.30378342, -0.26861626, 0.48301598, -0.25691545, -0.85687333]]\n"
          ]
        }
      ]
    },
    {
      "cell_type": "code",
      "metadata": {
        "id": "dLTJJHLzRNiL"
      },
      "source": [
        "tst_doc=\"Coding\""
      ],
      "execution_count": 10,
      "outputs": []
    },
    {
      "cell_type": "code",
      "metadata": {
        "id": "yzvAsBYCQhJI"
      },
      "source": [
        "trn_model=Doc2Vec.load(\"/content/doc2vec.model\")\n",
        "test_data=word_tokenize(tst_doc)\n",
        "inf_vec=trn_model.infer_vector(tst_doc)"
      ],
      "execution_count": 11,
      "outputs": []
    },
    {
      "cell_type": "code",
      "metadata": {
        "colab": {
          "base_uri": "https://localhost:8080/"
        },
        "id": "w9FTavQqRhFV",
        "outputId": "44cd64d2-db43-4279-d282-783392af3da6"
      },
      "source": [
        "inf_vec"
      ],
      "execution_count": 12,
      "outputs": [
        {
          "output_type": "execute_result",
          "data": {
            "text/plain": [
              "array([-0.00257765, -0.00198237,  0.01751239, -0.01212235, -0.00345116,\n",
              "        0.01060949,  0.00853734, -0.02549266, -0.01595187,  0.00808152,\n",
              "        0.0161754 , -0.01434605,  0.01310213,  0.01831741, -0.01514886,\n",
              "       -0.01209734, -0.02052941,  0.012821  , -0.02323542, -0.01505797],\n",
              "      dtype=float32)"
            ]
          },
          "metadata": {},
          "execution_count": 12
        }
      ]
    },
    {
      "cell_type": "code",
      "metadata": {
        "id": "DLSfsE2KRiYB"
      },
      "source": [
        "vec=[]\n",
        "for v in inf_vec:\n",
        "  vec.append(str(v))"
      ],
      "execution_count": 13,
      "outputs": []
    },
    {
      "cell_type": "code",
      "metadata": {
        "colab": {
          "base_uri": "https://localhost:8080/"
        },
        "id": "y3HPWUiYRvCQ",
        "outputId": "4477229b-aac8-4da8-dd67-364ef74ded0f"
      },
      "source": [
        "vec"
      ],
      "execution_count": 14,
      "outputs": [
        {
          "output_type": "execute_result",
          "data": {
            "text/plain": [
              "['-0.0025776476',\n",
              " '-0.0019823667',\n",
              " '0.01751239',\n",
              " '-0.012122345',\n",
              " '-0.0034511564',\n",
              " '0.010609494',\n",
              " '0.00853734',\n",
              " '-0.025492657',\n",
              " '-0.015951872',\n",
              " '0.008081525',\n",
              " '0.016175404',\n",
              " '-0.014346053',\n",
              " '0.013102131',\n",
              " '0.018317409',\n",
              " '-0.0151488595',\n",
              " '-0.012097342',\n",
              " '-0.020529414',\n",
              " '0.012820997',\n",
              " '-0.02323542',\n",
              " '-0.015057968']"
            ]
          },
          "metadata": {},
          "execution_count": 14
        }
      ]
    },
    {
      "cell_type": "code",
      "metadata": {
        "colab": {
          "base_uri": "https://localhost:8080/"
        },
        "id": "hM1tykDiRvhp",
        "outputId": "3d98ea4a-39f3-4a09-9fa9-3774234cbf09"
      },
      "source": [
        "trn_model.docvecs.most_similar(\"1\")"
      ],
      "execution_count": 15,
      "outputs": [
        {
          "output_type": "execute_result",
          "data": {
            "text/plain": [
              "[('0', 0.9991755485534668),\n",
              " ('2', 0.998810887336731),\n",
              " ('3', 0.9987039566040039)]"
            ]
          },
          "metadata": {},
          "execution_count": 15
        }
      ]
    },
    {
      "cell_type": "code",
      "metadata": {
        "id": "xula2URaR3gC"
      },
      "source": [
        ""
      ],
      "execution_count": null,
      "outputs": []
    }
  ]
}